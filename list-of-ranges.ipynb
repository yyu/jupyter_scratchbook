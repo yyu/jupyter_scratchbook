{
 "cells": [
  {
   "cell_type": "code",
   "execution_count": 1,
   "metadata": {},
   "outputs": [],
   "source": [
    "class LazyRangeList:\n",
    "    '''an easy implementation of a list of ranges with the cost of relatively expensive iteration\n",
    "\n",
    "    - easy implementation: internally elements are stored in a set, which simplifies almost all operations\n",
    "    - expensive iteration: \"list of ranges\" is a view and comes to reality only when being iterated (lazy)\n",
    "\n",
    "    say there are M ranges in which there are N elements/integers in total\n",
    "        - spacial complexity: O(N)\n",
    "        - insert/remove an element: O(1)\n",
    "        - look up an element: O(1)\n",
    "        - insert/remove a range: O(len(range))\n",
    "        - find range for element: O(len(range))\n",
    "    '''\n",
    "\n",
    "    def __init__(self,\n",
    "                 range2str = lambda r: '[%05d,%05d]' % (r.start, r.stop - 1),\n",
    "                 list2str = lambda l: '〔 ' + ', '.join(l) + ' 〕'):\n",
    "        self.elements = set()  # the model\n",
    "\n",
    "        self.range_to_str = range2str\n",
    "        self.list_to_str = list2str\n",
    "\n",
    "    def _isolate_sequential_head(self, sorted_elements):\n",
    "        for i, e in enumerate(sorted_elements):\n",
    "            if i > 0 and sorted_elements[i - 1] + 1 != sorted_elements[i]:\n",
    "                return (sorted_elements[:i], sorted_elements[i:])\n",
    "        return (sorted_elements, [])\n",
    "\n",
    "    def _make_list_of_lists(self, sorted_elements):\n",
    "        head, tail = self._isolate_sequential_head(sorted_elements)\n",
    "        return [] if len(head) == 0 else [head] + self._make_list_of_lists(tail)\n",
    "\n",
    "    def _make_list_of_ranges(self, sorted_elements):\n",
    "        return [range(l[0], l[-1] + 1) for l in self._make_list_of_lists(sorted_elements)]\n",
    "\n",
    "    def __iter__(self):\n",
    "        '''no optimization for now'''\n",
    "        for r in self._make_list_of_ranges(sorted(self.elements)):\n",
    "            yield r  # the view\n",
    "\n",
    "    def __repr__(self):\n",
    "        return self.list_to_str(self.range_to_str(r) for r in self)\n",
    "\n",
    "    def __str__(self):\n",
    "        return self.__repr__()\n",
    "\n",
    "    def add_inclusive_range(self, lo, hi):\n",
    "        self.add_range(range(lo, hi + 1))\n",
    "\n",
    "    def remove_inclusive_range(self, lo, hi):\n",
    "        self.remove_range(range(lo, hi + 1))\n",
    "\n",
    "    def add_range(self, r):\n",
    "        for element in r:\n",
    "            self.elements.add(element)\n",
    "\n",
    "    def remove_range(self, r):\n",
    "        for i in r:\n",
    "            self.elements.remove(i)\n",
    "\n",
    "    def insert(self, i):\n",
    "        self.elements.add(i)\n",
    "\n",
    "    def remove(self, i):\n",
    "        self.elements.remove(i)\n",
    "\n",
    "    def contains(self, i):\n",
    "        return i in self.elements\n",
    "\n",
    "    def find(self, i):\n",
    "        '''returns the range in which the element lives'''\n",
    "        lo = self.find_low(i)\n",
    "        hi = self.find_high(i)\n",
    "        return range(lo, hi + 1)\n",
    "\n",
    "    def find_low(self, i):\n",
    "        return self.find_low_high(i, lambda k: k - 1)\n",
    "\n",
    "    def find_high(self, i):\n",
    "        return self.find_low_high(i, lambda k: k + 1)\n",
    "\n",
    "    def find_low_high(self, i, op):\n",
    "        if i not in self.elements:\n",
    "            return None\n",
    "\n",
    "        while True:\n",
    "            j = op(i)\n",
    "            if j not in self.elements:\n",
    "                return i\n",
    "            i = j"
   ]
  },
  {
   "cell_type": "code",
   "execution_count": 2,
   "metadata": {},
   "outputs": [
    {
     "data": {
      "text/plain": [
       "〔  〕"
      ]
     },
     "execution_count": 2,
     "metadata": {},
     "output_type": "execute_result"
    }
   ],
   "source": [
    "zipcodes = LazyRangeList()\n",
    "zipcodes"
   ]
  },
  {
   "cell_type": "code",
   "execution_count": 3,
   "metadata": {},
   "outputs": [
    {
     "data": {
      "text/plain": [
       "〔 [95000,95033] 〕"
      ]
     },
     "execution_count": 3,
     "metadata": {},
     "output_type": "execute_result"
    }
   ],
   "source": [
    "zipcodes.add_inclusive_range(95000, 95033)\n",
    "zipcodes"
   ]
  },
  {
   "cell_type": "code",
   "execution_count": 4,
   "metadata": {},
   "outputs": [
    {
     "data": {
      "text/plain": [
       "〔 [95000,95033], [98000,98033] 〕"
      ]
     },
     "execution_count": 4,
     "metadata": {},
     "output_type": "execute_result"
    }
   ],
   "source": [
    "zipcodes.add_inclusive_range(98000, 98033)\n",
    "zipcodes"
   ]
  },
  {
   "cell_type": "code",
   "execution_count": 5,
   "metadata": {},
   "outputs": [
    {
     "data": {
      "text/plain": [
       "〔 [08123,08123], [95000,95033], [98000,98033] 〕"
      ]
     },
     "execution_count": 5,
     "metadata": {},
     "output_type": "execute_result"
    }
   ],
   "source": [
    "zipcodes.insert(8123)\n",
    "zipcodes"
   ]
  },
  {
   "cell_type": "code",
   "execution_count": 6,
   "metadata": {},
   "outputs": [
    {
     "data": {
      "text/plain": [
       "〔 [08123,08123], [95000,95033], [98000,98033] 〕"
      ]
     },
     "execution_count": 6,
     "metadata": {},
     "output_type": "execute_result"
    }
   ],
   "source": [
    "zipcodes.insert(98003)\n",
    "zipcodes"
   ]
  },
  {
   "cell_type": "code",
   "execution_count": 7,
   "metadata": {},
   "outputs": [
    {
     "data": {
      "text/plain": [
       "〔 [08123,08123], [95000,95033], [98000,98034] 〕"
      ]
     },
     "execution_count": 7,
     "metadata": {},
     "output_type": "execute_result"
    }
   ],
   "source": [
    "zipcodes.insert(98034)\n",
    "zipcodes"
   ]
  },
  {
   "cell_type": "code",
   "execution_count": 8,
   "metadata": {},
   "outputs": [
    {
     "data": {
      "text/plain": [
       "〔 [08123,08123], [95000,95033], [98000,98034], [98122,98122] 〕"
      ]
     },
     "execution_count": 8,
     "metadata": {},
     "output_type": "execute_result"
    }
   ],
   "source": [
    "zipcodes.insert(98122)\n",
    "zipcodes"
   ]
  },
  {
   "cell_type": "code",
   "execution_count": 9,
   "metadata": {},
   "outputs": [
    {
     "data": {
      "text/plain": [
       "〔 [08123,08123], [95000,95002], [95004,95033], [98000,98034], [98122,98122] 〕"
      ]
     },
     "execution_count": 9,
     "metadata": {},
     "output_type": "execute_result"
    }
   ],
   "source": [
    "zipcodes.remove(95003)\n",
    "zipcodes"
   ]
  },
  {
   "cell_type": "code",
   "execution_count": 10,
   "metadata": {},
   "outputs": [
    {
     "data": {
      "text/plain": [
       "range(95000, 95003)"
      ]
     },
     "execution_count": 10,
     "metadata": {},
     "output_type": "execute_result"
    }
   ],
   "source": [
    "zipcodes.find(95001)"
   ]
  },
  {
   "cell_type": "code",
   "execution_count": 11,
   "metadata": {},
   "outputs": [
    {
     "data": {
      "text/plain": [
       "range(98000, 98035)"
      ]
     },
     "execution_count": 11,
     "metadata": {},
     "output_type": "execute_result"
    }
   ],
   "source": [
    "zipcodes.find(98034)"
   ]
  },
  {
   "cell_type": "code",
   "execution_count": 12,
   "metadata": {},
   "outputs": [
    {
     "name": "stdout",
     "output_type": "stream",
     "text": [
      "range(8123, 8124)\n",
      "range(95000, 95003)\n",
      "range(95004, 95034)\n",
      "range(98000, 98035)\n",
      "range(98122, 98123)\n"
     ]
    }
   ],
   "source": [
    "for r in zipcodes:\n",
    "    print(r)"
   ]
  }
 ],
 "metadata": {
  "kernelspec": {
   "display_name": "Python 3",
   "language": "python",
   "name": "python3"
  },
  "language_info": {
   "codemirror_mode": {
    "name": "ipython",
    "version": 3
   },
   "file_extension": ".py",
   "mimetype": "text/x-python",
   "name": "python",
   "nbconvert_exporter": "python",
   "pygments_lexer": "ipython3",
   "version": "3.6.4"
  }
 },
 "nbformat": 4,
 "nbformat_minor": 2
}
