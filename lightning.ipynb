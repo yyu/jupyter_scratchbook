{
 "cells": [
  {
   "cell_type": "markdown",
   "metadata": {
    "ExecuteTime": {
     "end_time": "2018-05-09T07:44:07.446814Z",
     "start_time": "2018-05-09T07:44:07.442135Z"
    }
   },
   "source": [
    "https://nbviewer.jupyter.org/github/lightning-viz/lightning-example-notebooks/blob/master/images/image-poly.ipynb\n",
    "http://nbviewer.jupyter.org/github/lightning-viz/lightning-example-notebooks/blob/master/plots/map.ipynb"
   ]
  },
  {
   "cell_type": "code",
   "execution_count": 1,
   "metadata": {
    "ExecuteTime": {
     "end_time": "2018-05-09T08:04:39.096366Z",
     "start_time": "2018-05-09T08:04:38.842889Z"
    }
   },
   "outputs": [],
   "source": [
    "from lightning import Lightning\n",
    "from sklearn import datasets\n",
    "from numpy import random"
   ]
  },
  {
   "cell_type": "code",
   "execution_count": 2,
   "metadata": {
    "ExecuteTime": {
     "end_time": "2018-05-09T08:04:39.333171Z",
     "start_time": "2018-05-09T08:04:39.292720Z"
    }
   },
   "outputs": [
    {
     "data": {
      "text/html": [
       "<div style='margin-top:8px'><img src='data:image/png;base64,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' width='30px' height='35px' style='display: inline-block; padding-right: 10px'></img><span>Lightning initialized</span></div>"
      ],
      "text/plain": [
       "<IPython.core.display.HTML object>"
      ]
     },
     "metadata": {},
     "output_type": "display_data"
    },
    {
     "name": "stdout",
     "output_type": "stream",
     "text": [
      "Connected to server at http://localhost:3000\n"
     ]
    },
    {
     "data": {
      "application/javascript": [
       "(function e(t,n,r){function s(o,u){if(!n[o]){if(!t[o]){var a=typeof require==\"function\"&&require;if(!u&&a)return a(o,!0);if(i)return i(o,!0);throw new Error(\"Cannot find module '\"+o+\"'\")}var f=n[o]={exports:{}};t[o][0].call(f.exports,function(e){var n=t[o][1][e];return s(n?n:e)},f,f.exports,e,t,n,r)}return n[o].exports}var i=typeof require==\"function\"&&require;for(var o=0;o<r.length;o++)s(r[o]);return s})({1:[function(require,module,exports){\n",
       "window.lightning = window.lightning || {};\n",
       "var lightningCommMap = {};\n",
       "var IPython = window.IPython;\n",
       "\n",
       "var readCommData = function(commData, field) {\n",
       "    try {\n",
       "        return commData.content.data[field];\n",
       "    } catch (err) {\n",
       "        return;\n",
       "    }\n",
       "};\n",
       "\n",
       "\n",
       "var init_comm = function() {\n",
       "    IPython.notebook.kernel.comm_manager.register_target('lightning', function(comm, data) {\n",
       "        var id = readCommData(data, 'id');\n",
       "        lightningCommMap[id] = comm;\n",
       "    });\n",
       "\n",
       "    window.lightning.comm_map = lightningCommMap;\n",
       "}\n",
       "\n",
       "\n",
       "if(IPython && IPython.notebook) {\n",
       "\n",
       "    if(IPython.notebook.kernel) {\n",
       "        init_comm();\n",
       "    }\n",
       "\n",
       "    IPython.notebook.events.on('kernel_connected.Kernel', init_comm);\n",
       "\n",
       "}\n",
       "\n",
       "\n",
       "},{}]},{},[1])\n",
       "//# sourceMappingURL=data:application/json;base64,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\n"
      ],
      "text/plain": [
       "<IPython.core.display.Javascript object>"
      ]
     },
     "metadata": {},
     "output_type": "display_data"
    }
   ],
   "source": [
    "lgn = Lightning(ipython=True, host='http://localhost:3000')"
   ]
  },
  {
   "cell_type": "code",
   "execution_count": 3,
   "metadata": {
    "ExecuteTime": {
     "end_time": "2018-05-09T08:04:40.295286Z",
     "start_time": "2018-05-09T08:04:40.289756Z"
    },
    "collapsed": true
   },
   "outputs": [],
   "source": [
    "states = [\"NA\", \"AK\", \"AL\", \"AR\", \"AZ\", \"CA\", \"CO\",\"CT\",\n",
    "          \"DC\",\"DE\",\"FL\",\"GA\",\"HI\",\"IA\",\"ID\",\"IL\",\"IN\",\n",
    "          \"KS\",\"KY\",\"LA\",\"MA\",\"MD\",\"ME\",\"MI\",\"MN\",\"MO\",\n",
    "          \"MS\",\"MT\",\"NC\",\"ND\",\"NE\",\"NH\",\"NJ\",\"NM\",\"NV\",\n",
    "          \"NY\",\"OH\",\"OK\",\"OR\",\"PA\",\"RI\",\"SC\",\"SD\",\"TN\",\n",
    "          \"TX\",\"UT\",\"VA\",\"VI\",\"VT\",\"WA\",\"WI\",\"WV\",\"WY\"]"
   ]
  },
  {
   "cell_type": "code",
   "execution_count": 5,
   "metadata": {
    "ExecuteTime": {
     "end_time": "2018-05-09T08:04:45.073387Z",
     "start_time": "2018-05-09T08:04:44.830746Z"
    }
   },
   "outputs": [
    {
     "data": {
      "text/html": [
       "<meta name=\"viewport\" content=\"width=device-width, initial-scale=1, maximum-scale=1\"/><meta http-equiv=\"X-UA-Compatible\" content=\"IE=10; IE=9; IE=8; IE=7; IE=EDGE\"/><meta charset=\"UTF-8\"/><link href=\"//fonts.googleapis.com/css?family=Open+Sans:400,700\" rel=\"stylesheet\" type=\"text/css\"/><link rel=\"stylesheet\" href=\"http://localhost:3000/css/app.css\"/><link rel=\"stylesheet\" href=\"http://localhost:3000/css/dynamic/viz/?visualizations[]=map\"/><div id=\"lightning-body\" class=\"container content wrap push\"><div class=\"feed-container\"><div data-model=\"visualization\" data-model-id=\"82d82ee4-edfa-46bb-96b5-5a3fd24d2008\" class=\"feed-item-container\"><div data-type=\"lightning-map\" data-data=\"{&quot;regions&quot;:[&quot;NA&quot;,&quot;AK&quot;,&quot;AL&quot;,&quot;AR&quot;,&quot;AZ&quot;,&quot;CA&quot;,&quot;CO&quot;,&quot;CT&quot;,&quot;DC&quot;,&quot;DE&quot;,&quot;FL&quot;,&quot;GA&quot;,&quot;HI&quot;,&quot;IA&quot;,&quot;ID&quot;,&quot;IL&quot;,&quot;IN&quot;,&quot;KS&quot;,&quot;KY&quot;,&quot;LA&quot;,&quot;MA&quot;,&quot;MD&quot;,&quot;ME&quot;,&quot;MI&quot;,&quot;MN&quot;,&quot;MO&quot;,&quot;MS&quot;,&quot;MT&quot;,&quot;NC&quot;,&quot;ND&quot;,&quot;NE&quot;,&quot;NH&quot;,&quot;NJ&quot;,&quot;NM&quot;,&quot;NV&quot;,&quot;NY&quot;,&quot;OH&quot;,&quot;OK&quot;,&quot;OR&quot;,&quot;PA&quot;,&quot;RI&quot;,&quot;SC&quot;,&quot;SD&quot;,&quot;TN&quot;,&quot;TX&quot;,&quot;UT&quot;,&quot;VA&quot;,&quot;VI&quot;,&quot;VT&quot;,&quot;WA&quot;,&quot;WI&quot;,&quot;WV&quot;,&quot;WY&quot;],&quot;values&quot;:[0.4207794317332289,-1.655934551752063,0.4949054458909519,0.2534373300127601,-2.468236223310758,0.1527461427958589,-0.29222099552692266,-1.3734297786828589,1.1899931266857828,0.19597648064633313,-1.4085419816169256,-0.2241352558607399,-1.5174184442193344,0.3523362908243627,-0.2618222393543404,-0.0879057645315136,-0.7576074071274296,-0.048584043419286675,-2.9847646247459956,-0.7566687977005606,-2.476628518224484,1.2530357751564605,-2.162112403333994,1.102332018066057,-1.0751887683996988,0.3075577155618897,0.47944131675110657,-1.995598039422518,-0.2787194223586225,0.9394379162039906,-1.462343629575219,-0.6342092858842441,-0.6625175082181229,-0.43969144612420696,0.3269311607865888,-1.9164365015045413,1.238216934796334,0.027121573821352156,1.895943070035204,-0.7624011692824929,1.6829170317216267,-0.7744740895738701,-0.04091857898156149,2.016747576756662,0.8788195814206644,-0.1323560458105,-1.362655823173912,0.614364887875341,-2.229319951339474,1.0936344588974458,0.010741381434979897,1.1713224447657513,0.7083276820376139],&quot;colormap&quot;:&quot;Purples&quot;}\" data-images=\"[]\" data-options=\"{&quot;width&quot;:600,&quot;height&quot;:null,&quot;description&quot;:null}\" id=\"viz-82d82ee4-edfa-46bb-96b5-5a3fd24d2008\" data-initialized=\"false\" class=\"feed-item\"></div></div></div></div><script>window.lightning = window.lightning || {};\n",
       "window.lightning.host = \"http://localhost:3000/\" || 'http://127.0.0.1:3000/';\n",
       "window.lightning.vizCount = (window.lightning.vizCount + 1) || 1;\n",
       "window.lightning.requiredVizTypes = window.lightning.requiredVizTypes || [];\n",
       "if(window.lightning.requiredVizTypes.indexOf(\"map\") === -1) {\n",
       "    window.lightning.requiredVizTypes.push(\"map\");\n",
       "}\n",
       "window._require = window.require;\n",
       "window.require = undefined;\n",
       "window._define = window.define;\n",
       "window.define = undefined;</script><script src=\"http://localhost:3000/js/embed.js\"></script>"
      ],
      "text/plain": [
       "<lightning.types.plots.Map at 0x10aad9940>"
      ]
     },
     "execution_count": 5,
     "metadata": {},
     "output_type": "execute_result"
    }
   ],
   "source": [
    "values = random.randn(len(states))\n",
    "lgn.map(states, values, colormap='Purples')"
   ]
  },
  {
   "cell_type": "code",
   "execution_count": 6,
   "metadata": {
    "ExecuteTime": {
     "end_time": "2018-05-09T08:04:54.105851Z",
     "start_time": "2018-05-09T08:04:54.058495Z"
    }
   },
   "outputs": [
    {
     "data": {
      "text/html": [
       "<meta name=\"viewport\" content=\"width=device-width, initial-scale=1, maximum-scale=1\"/><meta http-equiv=\"X-UA-Compatible\" content=\"IE=10; IE=9; IE=8; IE=7; IE=EDGE\"/><meta charset=\"UTF-8\"/><link href=\"//fonts.googleapis.com/css?family=Open+Sans:400,700\" rel=\"stylesheet\" type=\"text/css\"/><link rel=\"stylesheet\" href=\"http://localhost:3000/css/app.css\"/><link rel=\"stylesheet\" href=\"http://localhost:3000/css/dynamic/viz/?visualizations[]=map\"/><div id=\"lightning-body\" class=\"container content wrap push\"><div class=\"feed-container\"><div data-model=\"visualization\" data-model-id=\"50fc36b8-a49a-4d21-983b-442b94487338\" class=\"feed-item-container\"><div data-type=\"lightning-map\" data-data=\"{&quot;regions&quot;:[&quot;NA&quot;,&quot;AK&quot;,&quot;AL&quot;,&quot;AR&quot;,&quot;AZ&quot;,&quot;CA&quot;,&quot;CO&quot;,&quot;CT&quot;,&quot;DC&quot;,&quot;DE&quot;,&quot;FL&quot;,&quot;GA&quot;,&quot;HI&quot;,&quot;IA&quot;,&quot;ID&quot;,&quot;IL&quot;,&quot;IN&quot;,&quot;KS&quot;,&quot;KY&quot;,&quot;LA&quot;,&quot;MA&quot;,&quot;MD&quot;,&quot;ME&quot;,&quot;MI&quot;,&quot;MN&quot;,&quot;MO&quot;,&quot;MS&quot;,&quot;MT&quot;,&quot;NC&quot;,&quot;ND&quot;,&quot;NE&quot;,&quot;NH&quot;,&quot;NJ&quot;,&quot;NM&quot;,&quot;NV&quot;,&quot;NY&quot;,&quot;OH&quot;,&quot;OK&quot;,&quot;OR&quot;,&quot;PA&quot;,&quot;RI&quot;,&quot;SC&quot;,&quot;SD&quot;,&quot;TN&quot;,&quot;TX&quot;,&quot;UT&quot;,&quot;VA&quot;,&quot;VI&quot;,&quot;VT&quot;,&quot;WA&quot;,&quot;WI&quot;,&quot;WV&quot;,&quot;WY&quot;],&quot;values&quot;:[3,4,2,3,3,4,2,2,1,2,3,3,3,0,4,2,1,2,2,1,0,3,0,0,1,1,0,0,4,3,1,2,1,1,3,3,2,4,3,3,2,1,0,1,1,3,4,1,3,0,2,4,1],&quot;colormap&quot;:&quot;Pastel1&quot;}\" data-images=\"[]\" data-options=\"{&quot;width&quot;:600,&quot;height&quot;:null,&quot;description&quot;:null}\" id=\"viz-50fc36b8-a49a-4d21-983b-442b94487338\" data-initialized=\"false\" class=\"feed-item\"></div></div></div></div><script>window.lightning = window.lightning || {};\n",
       "window.lightning.host = \"http://localhost:3000/\" || 'http://127.0.0.1:3000/';\n",
       "window.lightning.vizCount = (window.lightning.vizCount + 1) || 1;\n",
       "window.lightning.requiredVizTypes = window.lightning.requiredVizTypes || [];\n",
       "if(window.lightning.requiredVizTypes.indexOf(\"map\") === -1) {\n",
       "    window.lightning.requiredVizTypes.push(\"map\");\n",
       "}\n",
       "window._require = window.require;\n",
       "window.require = undefined;\n",
       "window._define = window.define;\n",
       "window.define = undefined;</script><script src=\"http://localhost:3000/js/embed.js\"></script>"
      ],
      "text/plain": [
       "<lightning.types.plots.Map at 0x10d3c4710>"
      ]
     },
     "execution_count": 6,
     "metadata": {},
     "output_type": "execute_result"
    }
   ],
   "source": [
    "values = (random.rand(len(states)) * 5).astype('int')\n",
    "lgn.map(states, values, colormap='Pastel1')"
   ]
  },
  {
   "cell_type": "code",
   "execution_count": 7,
   "metadata": {
    "ExecuteTime": {
     "end_time": "2018-05-09T08:04:56.179090Z",
     "start_time": "2018-05-09T08:04:56.145039Z"
    }
   },
   "outputs": [
    {
     "data": {
      "text/html": [
       "<meta name=\"viewport\" content=\"width=device-width, initial-scale=1, maximum-scale=1\"/><meta http-equiv=\"X-UA-Compatible\" content=\"IE=10; IE=9; IE=8; IE=7; IE=EDGE\"/><meta charset=\"UTF-8\"/><link href=\"//fonts.googleapis.com/css?family=Open+Sans:400,700\" rel=\"stylesheet\" type=\"text/css\"/><link rel=\"stylesheet\" href=\"http://localhost:3000/css/app.css\"/><link rel=\"stylesheet\" href=\"http://localhost:3000/css/dynamic/viz/?visualizations[]=map\"/><div id=\"lightning-body\" class=\"container content wrap push\"><div class=\"feed-container\"><div data-model=\"visualization\" data-model-id=\"1d54037a-3455-485d-8761-41b4af3aa053\" class=\"feed-item-container\"><div data-type=\"lightning-map\" data-data=\"{&quot;regions&quot;:[&quot;NA&quot;,&quot;AK&quot;,&quot;AL&quot;,&quot;AR&quot;,&quot;AZ&quot;,&quot;CA&quot;,&quot;CO&quot;,&quot;CT&quot;,&quot;DC&quot;,&quot;DE&quot;,&quot;FL&quot;,&quot;GA&quot;,&quot;HI&quot;,&quot;IA&quot;,&quot;ID&quot;,&quot;IL&quot;,&quot;IN&quot;,&quot;KS&quot;,&quot;KY&quot;,&quot;LA&quot;,&quot;MA&quot;,&quot;MD&quot;,&quot;ME&quot;,&quot;MI&quot;,&quot;MN&quot;,&quot;MO&quot;,&quot;MS&quot;,&quot;MT&quot;,&quot;NC&quot;,&quot;ND&quot;,&quot;NE&quot;,&quot;NH&quot;,&quot;NJ&quot;,&quot;NM&quot;,&quot;NV&quot;,&quot;NY&quot;,&quot;OH&quot;,&quot;OK&quot;,&quot;OR&quot;,&quot;PA&quot;,&quot;RI&quot;,&quot;SC&quot;,&quot;SD&quot;,&quot;TN&quot;,&quot;TX&quot;,&quot;UT&quot;,&quot;VA&quot;,&quot;VI&quot;,&quot;VT&quot;,&quot;WA&quot;,&quot;WI&quot;,&quot;WV&quot;,&quot;WY&quot;],&quot;values&quot;:[2,0,3,1,1,2,4,4,1,1,1,0,2,0,3,4,2,0,4,4,1,1,4,3,1,3,3,1,3,1,0,0,1,0,2,3,0,0,2,1,0,3,2,4,3,4,2,2,2,0,1,0,1],&quot;colormap&quot;:&quot;Lightning&quot;}\" data-images=\"[]\" data-options=\"{&quot;width&quot;:600,&quot;height&quot;:null,&quot;description&quot;:null}\" id=\"viz-1d54037a-3455-485d-8761-41b4af3aa053\" data-initialized=\"false\" class=\"feed-item\"></div></div></div></div><script>window.lightning = window.lightning || {};\n",
       "window.lightning.host = \"http://localhost:3000/\" || 'http://127.0.0.1:3000/';\n",
       "window.lightning.vizCount = (window.lightning.vizCount + 1) || 1;\n",
       "window.lightning.requiredVizTypes = window.lightning.requiredVizTypes || [];\n",
       "if(window.lightning.requiredVizTypes.indexOf(\"map\") === -1) {\n",
       "    window.lightning.requiredVizTypes.push(\"map\");\n",
       "}\n",
       "window._require = window.require;\n",
       "window.require = undefined;\n",
       "window._define = window.define;\n",
       "window.define = undefined;</script><script src=\"http://localhost:3000/js/embed.js\"></script>"
      ],
      "text/plain": [
       "<lightning.types.plots.Map at 0x10d42c240>"
      ]
     },
     "execution_count": 7,
     "metadata": {},
     "output_type": "execute_result"
    }
   ],
   "source": [
    "values = (random.rand(len(states)) * 5).astype('int')\n",
    "lgn.map(states, values, colormap='Lightning')"
   ]
  },
  {
   "cell_type": "code",
   "execution_count": 8,
   "metadata": {
    "ExecuteTime": {
     "end_time": "2018-05-09T08:04:57.556154Z",
     "start_time": "2018-05-09T08:04:57.511397Z"
    },
    "collapsed": true
   },
   "outputs": [],
   "source": [
    "countries = ['ISO', 'SLE', 'COD', 'CAF', 'TCD', 'AGO', 'GNB', 'GNQ', 'MLI', 'MWI', \n",
    "             'BDI', 'NGA', 'SOM', 'SSD', 'MOZ', 'CIV', 'CMR', 'GIN', 'BFA', 'AFG', \n",
    "             'ZMB', 'MRT', 'SWZ', 'LSO', 'TGO', 'BEN', 'COG', 'COM', 'LBR', 'PAK', \n",
    "             'UGA', 'NER', 'DJI', 'YEM', 'TZA', 'GMB', 'RWA', 'ETH', 'KEN', 'TJK', \n",
    "             'GHA', 'SEN', 'ERI', 'MMR', 'ZWE', 'ZAF', 'GAB', 'KHM', 'TLS', 'IND', \n",
    "             'TKM', 'PNG', 'HTI', 'LAO', 'UZB', 'STP', 'BOL', 'MDG', 'NPL', 'ESH', \n",
    "             'BGD', 'NAM', 'SLB', 'AZE', 'BTN', 'KIR', 'BWA', 'KGZ', 'FSM', 'IRQ', \n",
    "             'MAR', 'PRY', 'GUY', 'MNG', 'GTM', 'DZA', 'DOM', 'IDN', 'VUT', 'HND', \n",
    "             'PRK', 'KAZ', 'TTO', 'JAM', 'BRA', 'EGY', 'PHL', 'WSM', 'PSE', 'SUR', \n",
    "             'TON', 'GEO', 'CPV', 'NIC', 'ECU', 'ARM', 'PER', 'IRN', 'SLV', 'JOR', \n",
    "             'COL', 'TUN', 'VCT', 'CHN', 'FJI', 'PAN', 'VEN', 'LBY', 'MEX', 'TUR', \n",
    "             'ALB', 'ABW', 'VNM', 'BLZ', 'MDA', 'MDV', 'NCL', 'SYR', 'GUF', 'SAU', \n",
    "             'ARG', 'MUS', 'URY', 'UKR', 'ROU', 'MKD', 'LCA', 'THA', 'BRB', 'GUM', \n",
    "             'MNE', 'VIR', 'LKA', 'GRD', 'SYC', 'BHS', 'ATG', 'LBN', 'CRI', 'BGR', \n",
    "             'OMN', 'KWT', 'BIH', 'PYF', 'BHR', 'LVA', 'MTQ', 'QAT', 'CHL', 'PRI', \n",
    "             'GLP', 'ARE', 'USA', 'BLR', 'SVK', 'POL', 'LTU', 'MLT', 'HRV', 'MYT', \n",
    "             'REU', 'HUN', 'CAN', 'TWN', 'BRN', 'CUB', 'MAC', 'NZL', 'GBR', 'MYS', \n",
    "             'EST', 'KOR', 'AUS', 'CYP', 'GRC', 'CHE', 'NLD', 'ISR', 'DNK', 'BEL', \n",
    "             'AUT', 'IRL', 'DEU', 'FRA', 'ESP', 'ITA', 'PRT', 'CZE', 'NOR', 'SVN', \n",
    "             'FIN', 'JPN', 'SWE', 'LUX', 'SGP', 'ISL', 'HKG', 'FLK', 'SMR', 'TCA', \n",
    "             'VAT', 'RUS', 'GRL']"
   ]
  },
  {
   "cell_type": "code",
   "execution_count": 8,
   "metadata": {
    "ExecuteTime": {
     "end_time": "2018-05-09T08:03:54.112214Z",
     "start_time": "2018-05-09T08:03:54.053889Z"
    }
   },
   "outputs": [
    {
     "data": {
      "text/html": [
       "<meta name=\"viewport\" content=\"width=device-width, initial-scale=1, maximum-scale=1\"/><meta http-equiv=\"X-UA-Compatible\" content=\"IE=10; IE=9; IE=8; IE=7; IE=EDGE\"/><meta charset=\"UTF-8\"/><link href=\"//fonts.googleapis.com/css?family=Open+Sans:400,700\" rel=\"stylesheet\" type=\"text/css\"/><link rel=\"stylesheet\" href=\"http://localhost:3000/css/app.css\"/><link rel=\"stylesheet\" href=\"http://localhost:3000/css/dynamic/viz/?visualizations[]=map\"/><div id=\"lightning-body\" class=\"container content wrap push\"><div class=\"feed-container\"><div data-model=\"visualization\" data-model-id=\"c79267a4-932c-46e1-974b-8e4f94d5f540\" class=\"feed-item-container\"><div data-type=\"lightning-map\" data-data=\"{&quot;regions&quot;:[&quot;ISO&quot;,&quot;SLE&quot;,&quot;COD&quot;,&quot;CAF&quot;,&quot;TCD&quot;,&quot;AGO&quot;,&quot;GNB&quot;,&quot;GNQ&quot;,&quot;MLI&quot;,&quot;MWI&quot;,&quot;BDI&quot;,&quot;NGA&quot;,&quot;SOM&quot;,&quot;SSD&quot;,&quot;MOZ&quot;,&quot;CIV&quot;,&quot;CMR&quot;,&quot;GIN&quot;,&quot;BFA&quot;,&quot;AFG&quot;,&quot;ZMB&quot;,&quot;MRT&quot;,&quot;SWZ&quot;,&quot;LSO&quot;,&quot;TGO&quot;,&quot;BEN&quot;,&quot;COG&quot;,&quot;COM&quot;,&quot;LBR&quot;,&quot;PAK&quot;,&quot;UGA&quot;,&quot;NER&quot;,&quot;DJI&quot;,&quot;YEM&quot;,&quot;TZA&quot;,&quot;GMB&quot;,&quot;RWA&quot;,&quot;ETH&quot;,&quot;KEN&quot;,&quot;TJK&quot;,&quot;GHA&quot;,&quot;SEN&quot;,&quot;ERI&quot;,&quot;MMR&quot;,&quot;ZWE&quot;,&quot;ZAF&quot;,&quot;GAB&quot;,&quot;KHM&quot;,&quot;TLS&quot;,&quot;IND&quot;,&quot;TKM&quot;,&quot;PNG&quot;,&quot;HTI&quot;,&quot;LAO&quot;,&quot;UZB&quot;,&quot;STP&quot;,&quot;BOL&quot;,&quot;MDG&quot;,&quot;NPL&quot;,&quot;ESH&quot;,&quot;BGD&quot;,&quot;NAM&quot;,&quot;SLB&quot;,&quot;AZE&quot;,&quot;BTN&quot;,&quot;KIR&quot;,&quot;BWA&quot;,&quot;KGZ&quot;,&quot;FSM&quot;,&quot;IRQ&quot;,&quot;MAR&quot;,&quot;PRY&quot;,&quot;GUY&quot;,&quot;MNG&quot;,&quot;GTM&quot;,&quot;DZA&quot;,&quot;DOM&quot;,&quot;IDN&quot;,&quot;VUT&quot;,&quot;HND&quot;,&quot;PRK&quot;,&quot;KAZ&quot;,&quot;TTO&quot;,&quot;JAM&quot;,&quot;BRA&quot;,&quot;EGY&quot;,&quot;PHL&quot;,&quot;WSM&quot;,&quot;PSE&quot;,&quot;SUR&quot;,&quot;TON&quot;,&quot;GEO&quot;,&quot;CPV&quot;,&quot;NIC&quot;,&quot;ECU&quot;,&quot;ARM&quot;,&quot;PER&quot;,&quot;IRN&quot;,&quot;SLV&quot;,&quot;JOR&quot;,&quot;COL&quot;,&quot;TUN&quot;,&quot;VCT&quot;,&quot;CHN&quot;,&quot;FJI&quot;,&quot;PAN&quot;,&quot;VEN&quot;,&quot;LBY&quot;,&quot;MEX&quot;,&quot;TUR&quot;,&quot;ALB&quot;,&quot;ABW&quot;,&quot;VNM&quot;,&quot;BLZ&quot;,&quot;MDA&quot;,&quot;MDV&quot;,&quot;NCL&quot;,&quot;SYR&quot;,&quot;GUF&quot;,&quot;SAU&quot;,&quot;ARG&quot;,&quot;MUS&quot;,&quot;URY&quot;,&quot;UKR&quot;,&quot;ROU&quot;,&quot;MKD&quot;,&quot;LCA&quot;,&quot;THA&quot;,&quot;BRB&quot;,&quot;GUM&quot;,&quot;MNE&quot;,&quot;VIR&quot;,&quot;LKA&quot;,&quot;GRD&quot;,&quot;SYC&quot;,&quot;BHS&quot;,&quot;ATG&quot;,&quot;LBN&quot;,&quot;CRI&quot;,&quot;BGR&quot;,&quot;OMN&quot;,&quot;KWT&quot;,&quot;BIH&quot;,&quot;PYF&quot;,&quot;BHR&quot;,&quot;LVA&quot;,&quot;MTQ&quot;,&quot;QAT&quot;,&quot;CHL&quot;,&quot;PRI&quot;,&quot;GLP&quot;,&quot;ARE&quot;,&quot;USA&quot;,&quot;BLR&quot;,&quot;SVK&quot;,&quot;POL&quot;,&quot;LTU&quot;,&quot;MLT&quot;,&quot;HRV&quot;,&quot;MYT&quot;,&quot;REU&quot;,&quot;HUN&quot;,&quot;CAN&quot;,&quot;TWN&quot;,&quot;BRN&quot;,&quot;CUB&quot;,&quot;MAC&quot;,&quot;NZL&quot;,&quot;GBR&quot;,&quot;MYS&quot;,&quot;EST&quot;,&quot;KOR&quot;,&quot;AUS&quot;,&quot;CYP&quot;,&quot;GRC&quot;,&quot;CHE&quot;,&quot;NLD&quot;,&quot;ISR&quot;,&quot;DNK&quot;,&quot;BEL&quot;,&quot;AUT&quot;,&quot;IRL&quot;,&quot;DEU&quot;,&quot;FRA&quot;,&quot;ESP&quot;,&quot;ITA&quot;,&quot;PRT&quot;,&quot;CZE&quot;,&quot;NOR&quot;,&quot;SVN&quot;,&quot;FIN&quot;,&quot;JPN&quot;,&quot;SWE&quot;,&quot;LUX&quot;,&quot;SGP&quot;,&quot;ISL&quot;,&quot;HKG&quot;,&quot;FLK&quot;,&quot;SMR&quot;,&quot;TCA&quot;,&quot;VAT&quot;,&quot;RUS&quot;,&quot;GRL&quot;],&quot;values&quot;:[4,1,0,2,4,2,2,0,4,1,4,0,2,2,4,0,2,2,0,3,4,2,1,3,1,4,1,3,2,2,3,0,1,1,3,0,1,2,1,1,1,2,3,0,0,3,2,2,4,1,4,3,0,1,0,2,2,3,4,3,2,1,2,2,1,3,4,3,2,1,3,3,3,2,1,4,2,2,3,1,0,0,4,4,2,0,4,0,2,1,4,4,2,4,4,1,4,3,3,3,0,0,3,3,3,1,2,1,3,1,0,0,3,3,1,3,3,3,1,3,1,3,0,2,4,2,0,1,3,4,4,4,4,2,2,0,0,4,2,3,3,3,3,0,0,4,3,0,1,0,1,3,4,1,1,3,2,4,0,0,3,0,0,0,3,4,0,4,2,1,0,4,4,0,3,2,1,4,4,2,2,0,3,3,4,3,4,0,4,4,0,4,4,2,2,4,4,1,4,3,0,1,4],&quot;colormap&quot;:&quot;Pastel1&quot;}\" data-images=\"[]\" data-options=\"{&quot;width&quot;:900,&quot;height&quot;:null,&quot;description&quot;:null}\" id=\"viz-c79267a4-932c-46e1-974b-8e4f94d5f540\" data-initialized=\"false\" class=\"feed-item\"></div></div></div></div><script>window.lightning = window.lightning || {};\n",
       "window.lightning.host = \"http://localhost:3000/\" || 'http://127.0.0.1:3000/';\n",
       "window.lightning.vizCount = (window.lightning.vizCount + 1) || 1;\n",
       "window.lightning.requiredVizTypes = window.lightning.requiredVizTypes || [];\n",
       "if(window.lightning.requiredVizTypes.indexOf(\"map\") === -1) {\n",
       "    window.lightning.requiredVizTypes.push(\"map\");\n",
       "}\n",
       "window._require = window.require;\n",
       "window.require = undefined;\n",
       "window._define = window.define;\n",
       "window.define = undefined;</script><script src=\"http://localhost:3000/js/embed.js\"></script>"
      ],
      "text/plain": [
       "<lightning.types.plots.Map at 0x10e74c080>"
      ]
     },
     "execution_count": 8,
     "metadata": {},
     "output_type": "execute_result"
    }
   ],
   "source": [
    "values = (random.rand(len(countries)) * 5).astype('int')\n",
    "lgn.map(countries, values, colormap='Pastel1', width=900)"
   ]
  }
 ],
 "metadata": {
  "kernelspec": {
   "display_name": "Python 3",
   "language": "python",
   "name": "python3"
  },
  "language_info": {
   "codemirror_mode": {
    "name": "ipython",
    "version": 3
   },
   "file_extension": ".py",
   "mimetype": "text/x-python",
   "name": "python",
   "nbconvert_exporter": "python",
   "pygments_lexer": "ipython3",
   "version": "3.6.4"
  },
  "latex_envs": {
   "LaTeX_envs_menu_present": true,
   "autoclose": false,
   "autocomplete": true,
   "bibliofile": "biblio.bib",
   "cite_by": "apalike",
   "current_citInitial": 1,
   "eqLabelWithNumbers": true,
   "eqNumInitial": 1,
   "hotkeys": {
    "equation": "Ctrl-E",
    "itemize": "Ctrl-I"
   },
   "labels_anchors": false,
   "latex_user_defs": false,
   "report_style_numbering": false,
   "user_envs_cfg": false
  },
  "toc": {
   "base_numbering": 1,
   "nav_menu": {},
   "number_sections": true,
   "sideBar": true,
   "skip_h1_title": false,
   "title_cell": "Table of Contents",
   "title_sidebar": "Contents",
   "toc_cell": false,
   "toc_position": {},
   "toc_section_display": true,
   "toc_window_display": false
  },
  "varInspector": {
   "cols": {
    "lenName": 16,
    "lenType": 16,
    "lenVar": 40
   },
   "kernels_config": {
    "python": {
     "delete_cmd_postfix": "",
     "delete_cmd_prefix": "del ",
     "library": "var_list.py",
     "varRefreshCmd": "print(var_dic_list())"
    },
    "r": {
     "delete_cmd_postfix": ") ",
     "delete_cmd_prefix": "rm(",
     "library": "var_list.r",
     "varRefreshCmd": "cat(var_dic_list()) "
    }
   },
   "types_to_exclude": [
    "module",
    "function",
    "builtin_function_or_method",
    "instance",
    "_Feature"
   ],
   "window_display": false
  }
 },
 "nbformat": 4,
 "nbformat_minor": 2
}
