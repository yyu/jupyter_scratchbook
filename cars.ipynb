{
 "cells": [
  {
   "cell_type": "code",
   "execution_count": 1,
   "metadata": {
    "ExecuteTime": {
     "end_time": "2018-05-28T02:08:44.492939Z",
     "start_time": "2018-05-28T02:08:44.488716Z"
    }
   },
   "outputs": [],
   "source": [
    "from string import Template\n",
    "\n",
    "models_for_make = Template('https://vpic.nhtsa.dot.gov/api/vehicles/getmodelsformake/$make?format=json')\n",
    "\n",
    "def make_url(make):\n",
    "    return models_for_make.substitute(make=make)"
   ]
  },
  {
   "cell_type": "code",
   "execution_count": 2,
   "metadata": {
    "ExecuteTime": {
     "end_time": "2018-05-28T02:08:44.965180Z",
     "start_time": "2018-05-28T02:08:44.497172Z"
    }
   },
   "outputs": [],
   "source": [
    "import urllib.request\n",
    "\n",
    "url = make_url('tesla')\n",
    "s = urllib.request.urlopen(url).read().decode('utf8')"
   ]
  },
  {
   "cell_type": "code",
   "execution_count": 3,
   "metadata": {
    "ExecuteTime": {
     "end_time": "2018-05-28T02:08:44.973305Z",
     "start_time": "2018-05-28T02:08:44.967823Z"
    }
   },
   "outputs": [],
   "source": [
    "import json\n",
    "\n",
    "j = json.loads(s)"
   ]
  },
  {
   "cell_type": "code",
   "execution_count": 4,
   "metadata": {
    "ExecuteTime": {
     "end_time": "2018-05-28T02:08:45.008874Z",
     "start_time": "2018-05-28T02:08:44.978646Z"
    }
   },
   "outputs": [
    {
     "data": {
      "text/plain": [
       "{'Count': 4,\n",
       " 'Message': 'Response returned successfully',\n",
       " 'SearchCriteria': 'Make:tesla',\n",
       " 'Results': [{'Make_ID': 441,\n",
       "   'Make_Name': 'Tesla',\n",
       "   'Model_ID': 1685,\n",
       "   'Model_Name': 'Model S'},\n",
       "  {'Make_ID': 441,\n",
       "   'Make_Name': 'Tesla',\n",
       "   'Model_ID': 2071,\n",
       "   'Model_Name': 'Roadster'},\n",
       "  {'Make_ID': 441,\n",
       "   'Make_Name': 'Tesla',\n",
       "   'Model_ID': 10199,\n",
       "   'Model_Name': 'Model X'},\n",
       "  {'Make_ID': 441,\n",
       "   'Make_Name': 'Tesla',\n",
       "   'Model_ID': 17834,\n",
       "   'Model_Name': 'Model 3'}]}"
      ]
     },
     "execution_count": 4,
     "metadata": {},
     "output_type": "execute_result"
    }
   ],
   "source": [
    "j"
   ]
  }
 ],
 "metadata": {
  "hide_input": false,
  "kernelspec": {
   "display_name": "Python 3",
   "language": "python",
   "name": "python3"
  },
  "language_info": {
   "codemirror_mode": {
    "name": "ipython",
    "version": 3
   },
   "file_extension": ".py",
   "mimetype": "text/x-python",
   "name": "python",
   "nbconvert_exporter": "python",
   "pygments_lexer": "ipython3",
   "version": "3.6.5"
  },
  "varInspector": {
   "cols": {
    "lenName": 16,
    "lenType": 16,
    "lenVar": 40
   },
   "kernels_config": {
    "python": {
     "delete_cmd_postfix": "",
     "delete_cmd_prefix": "del ",
     "library": "var_list.py",
     "varRefreshCmd": "print(var_dic_list())"
    },
    "r": {
     "delete_cmd_postfix": ") ",
     "delete_cmd_prefix": "rm(",
     "library": "var_list.r",
     "varRefreshCmd": "cat(var_dic_list()) "
    }
   },
   "types_to_exclude": [
    "module",
    "function",
    "builtin_function_or_method",
    "instance",
    "_Feature"
   ],
   "window_display": false
  }
 },
 "nbformat": 4,
 "nbformat_minor": 2
}
