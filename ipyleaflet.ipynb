{
 "cells": [
  {
   "cell_type": "markdown",
   "metadata": {},
   "source": [
    "-----"
   ]
  },
  {
   "cell_type": "markdown",
   "metadata": {
    "hide_input": false
   },
   "source": [
    "Keyboard shortcuts:\n",
    "\n",
    "| do this                  | by typing this   |\n",
    "| ------------------------ |------------------|\n",
    "| run cell                 | ⌃↩              |\n",
    "| run cell and select next | ⇧↩             |"
   ]
  },
  {
   "cell_type": "markdown",
   "metadata": {},
   "source": [
    "-----"
   ]
  },
  {
   "cell_type": "code",
   "execution_count": 1,
   "metadata": {
    "ExecuteTime": {
     "end_time": "2018-05-19T08:51:04.885462Z",
     "start_time": "2018-05-19T08:51:04.875906Z"
    },
    "code_folding": []
   },
   "outputs": [],
   "source": [
    "from pprint import pprint\n",
    "from string import Template\n",
    "\n",
    "import urllib.request\n",
    "import json\n",
    "import csv\n",
    "import codecs"
   ]
  },
  {
   "cell_type": "code",
   "execution_count": 2,
   "metadata": {
    "ExecuteTime": {
     "end_time": "2018-05-19T08:51:04.999241Z",
     "start_time": "2018-05-19T08:51:04.887624Z"
    },
    "code_folding": []
   },
   "outputs": [],
   "source": [
    "class USZIPCodeRepository:\n",
    "    CACHE = {}\n",
    "\n",
    "    def __init__(self, data_url_prefix = 'https://raw.githubusercontent.com/yyu/GeoJSON-US/master'):\n",
    "        self.data_url_prefix = data_url_prefix\n",
    "        self.geojson_url_prefix = f'{data_url_prefix}/perZIPgeojson'\n",
    "\n",
    "        self.refresh_zipcode_latlons(f'{data_url_prefix}/ZIPCodesGazetteer.tsv')\n",
    "        self.refresh_available_zipcodes(f'{data_url_prefix}/perZIPgeojson/all_zipcodes.txt')\n",
    "\n",
    "\n",
    "    def refresh_zipcode_latlons(self, url):\n",
    "        lines = [ line.decode('UTF8').strip() for line in urllib.request.urlopen(url).readlines() ]\n",
    "        tsv = csv.DictReader(lines, delimiter='\\t')\n",
    "        self.gazetteer = dict((d['GEOID'], {'lat': float(d['INTPTLAT']), 'lon': float(d['INTPTLONG'])}) for d in tsv)\n",
    "\n",
    "\n",
    "    def refresh_available_zipcodes(self, url):\n",
    "        lines = [ zipcode.decode('UTF8').strip() for zipcode in urllib.request.urlopen(url).readlines() ]\n",
    "        self.zipcode_list = lines[1:] # ignore the first line\n",
    "        self.zipcode_set = set(self.zipcode_list)\n",
    "\n",
    "\n",
    "    def make_url(self, zipcode):\n",
    "        return f'{self.data_url_prefix}/perZIPgeojson/{zipcode[0]}/{zipcode[1]}/{zipcode[2]}/{zipcode}.json'\n",
    "\n",
    "\n",
    "    def fetch_zipcode(self, zipcode):\n",
    "        '''returns a (dict, err) tuple where err could be a string for error message or None'''\n",
    "\n",
    "        url = self.make_url(zipcode)\n",
    "\n",
    "        if url in USZIPCodeRepository.CACHE:\n",
    "            return (USZIPCodeRepository.CACHE[url], None)\n",
    "\n",
    "        try:\n",
    "            s = urllib.request.urlopen(url).read()\n",
    "        except urllib.error.URLError as e:\n",
    "            return (None, 'failed to get ' + url, ':', e.reason)\n",
    "\n",
    "        j = json.loads(s)\n",
    "\n",
    "        USZIPCodeRepository.CACHE[url] = j\n",
    "\n",
    "        return (j, None)\n",
    "\n",
    "\n",
    "    def fetch_zipcodes(self, *zipcodes):\n",
    "        d = {\"type\": \"FeatureCollection\", \"features\": []}\n",
    "\n",
    "        available_zipcodes = set(zipcodes) & self.zipcode_set\n",
    "\n",
    "        for z in available_zipcodes:\n",
    "            j, err = self.fetch_zipcode(z)\n",
    "\n",
    "            if j is not None:\n",
    "                d['features'].append(j)\n",
    "\n",
    "        return d\n"
   ]
  },
  {
   "cell_type": "code",
   "execution_count": 3,
   "metadata": {},
   "outputs": [],
   "source": [
    "import ipyleaflet as leaflet\n",
    "import ipywidgets as widgets\n",
    "\n",
    "class USMap:\n",
    "    def __init__(self):\n",
    "        self.us = USZIPCodeRepository()\n",
    "\n",
    "        self.center = [47.621795, -122.334958]\n",
    "        self.zoom = 8\n",
    "        self.height = '500px'\n",
    "        self.progress_bar_width = '500px'\n",
    "        self.area_style = {'color':'#0000ff', 'weight': .5, 'fillColor':'#000077', 'fillOpacity':0.2}\n",
    "\n",
    "        self.progress_bar = widgets.IntProgress(bar_style='info', layout=widgets.Layout(width=self.progress_bar_width))\n",
    "        self.label = widgets.Label()\n",
    "        self.progress_label = widgets.Label()\n",
    "        self.info_box = widgets.HBox([self.progress_label, self.progress_bar])\n",
    "\n",
    "        self.basemap = leaflet.basemaps.OpenMapSurfer.Roads\n",
    "        self.basemap['name'] = 'basemap'\n",
    "        self.heatmap_data = leaflet.basemaps.Strava.All\n",
    "        self.heatmap_data['name'] = 'heatmap'\n",
    "        self.heatmap = leaflet.basemap_to_tiles(self.heatmap_data)\n",
    "        self.layers_control = leaflet.LayersControl()\n",
    "        self.map_layout = widgets.Layout(height=self.height)\n",
    "\n",
    "        self.map = leaflet.Map( center=self.center, zoom=self.zoom, basemap=self.basemap, layout=self.map_layout)\n",
    "        self.map.on_interaction(self.handle_interaction)\n",
    "        self.map.add_control(self.layers_control)\n",
    "\n",
    "\n",
    "    def enable_heatmap(self):\n",
    "        self.map.add_layer(self.heatmap)\n",
    "\n",
    "\n",
    "    def disable_heatmap(self):\n",
    "        self.map.remove_layer(self.heatmap)\n",
    "\n",
    "\n",
    "    def handle_interaction(self, **kwargs):\n",
    "        '''mouse interaction handling'''\n",
    "        if kwargs.get('type') == 'mousemove':\n",
    "            self.label.value = str(kwargs.get('coordinates'))\n",
    "\n",
    "    def fetch_zipcode(self, zipcode):\n",
    "        d, err = self.us.fetch_zipcode(zipcode)\n",
    "        if err is not None:\n",
    "            print(err)\n",
    "        return d\n",
    "\n",
    "\n",
    "    def add_point(self, lat, lng):\n",
    "        feature = {\"type\": \"Feature\", \"properties\": {}, \"geometry\": {\"type\": \"Point\", \"coordinates\": [lng, lat]}}\n",
    "        self.add_geojson(feature)\n",
    "\n",
    "\n",
    "    def add_geojson(self, geojson, name='', popup=None):\n",
    "        g = leaflet.GeoJSON(data=geojson, hover_style={'fillColor': '#00aaff'}, name=name)\n",
    "\n",
    "        if popup is not None:\n",
    "            g.popup = popup\n",
    "\n",
    "        self.map += g\n",
    "\n",
    "\n",
    "    def add_geojsons(self, geojsons, name=''):\n",
    "        d = {\"type\": \"FeatureCollection\", \"features\": list(geojsons)}\n",
    "\n",
    "        self.add_geojson(d, name)\n",
    "\n",
    "\n",
    "    def add_zipcode(self, zipcode):\n",
    "        d = self.fetch_zipcode(zipcode)\n",
    "        if d is None:\n",
    "            print('failed to add ' + zipcode + '.')\n",
    "            return\n",
    "\n",
    "        d['properties']['style'] = self.area_style\n",
    "\n",
    "        text_template = Template('''<div>ZIP Code\n",
    "                                        <ul class='list-group'>\n",
    "                                            <li class='list-group-item'>$zipcode</li>\n",
    "                                        </ul>\n",
    "                                    </div>''')\n",
    "        popup_text = text_template.substitute(zipcode=zipcode)\n",
    "        popup = widgets.HTML(value=popup_text, placeholder='', description='')\n",
    "\n",
    "        self.add_geojson(d, name=zipcode, popup=popup)\n",
    "\n",
    "\n",
    "    def add_zipcodes(self, zipcodes):\n",
    "        zipcodes = set(zipcodes)\n",
    "        available_zipcodes = list(zipcodes & self.us.zipcode_set)\n",
    "        available_zipcodes.sort()\n",
    "\n",
    "        self.progress_bar.value = self.progress_bar.min\n",
    "        self.progress_bar.max = len(available_zipcodes)\n",
    "\n",
    "        for z in available_zipcodes:\n",
    "            self.progress_label.value = z\n",
    "            self.add_zipcode(z)\n",
    "            self.progress_bar.value += 1\n",
    "        self.progress_label.value = '%d/%d loaded' % (len(available_zipcodes), len(zipcodes))\n",
    "\n",
    "        return available_zipcodes\n",
    "\n",
    "\n",
    "    def display(self):\n",
    "        display(self.map)\n",
    "        display(self.info_box)\n",
    "        display(self.label)"
   ]
  },
  {
   "cell_type": "code",
   "execution_count": 4,
   "metadata": {
    "ExecuteTime": {
     "end_time": "2018-05-19T08:51:10.872289Z",
     "start_time": "2018-05-19T08:51:10.868936Z"
    }
   },
   "outputs": [],
   "source": [
    "m = USMap()"
   ]
  },
  {
   "cell_type": "code",
   "execution_count": 5,
   "metadata": {},
   "outputs": [
    {
     "data": {
      "application/vnd.jupyter.widget-view+json": {
       "model_id": "be36f58d6aa44425abf6f676594f5d3d",
       "version_major": 2,
       "version_minor": 0
      },
      "text/html": [
       "<p>Failed to display Jupyter Widget of type <code>Map</code>.</p>\n",
       "<p>\n",
       "  If you're reading this message in the Jupyter Notebook or JupyterLab Notebook, it may mean\n",
       "  that the widgets JavaScript is still loading. If this message persists, it\n",
       "  likely means that the widgets JavaScript library is either not installed or\n",
       "  not enabled. See the <a href=\"https://ipywidgets.readthedocs.io/en/stable/user_install.html\">Jupyter\n",
       "  Widgets Documentation</a> for setup instructions.\n",
       "</p>\n",
       "<p>\n",
       "  If you're reading this message in another frontend (for example, a static\n",
       "  rendering on GitHub or <a href=\"https://nbviewer.jupyter.org/\">NBViewer</a>),\n",
       "  it may mean that your frontend doesn't currently support widgets.\n",
       "</p>\n"
      ],
      "text/plain": [
       "Map(basemap={'url': 'http://korona.geog.uni-heidelberg.de/tiles/roads/x={x}&y={y}&z={z}', 'max_zoom': 20, 'attribution': 'Imagery from <a href=\"http://giscience.uni-hd.de/\">GIScience Research Group @ University of Heidelberg</a> &mdash; Map data &copy; <a href=\"http://www.openstreetmap.org/copyright\">OpenStreetMap</a>', 'name': 'basemap'}, center=[47.621795, -122.334958], controls=(LayersControl(),), layers=(TileLayer(attribution='Imagery from <a href=\"http://giscience.uni-hd.de/\">GIScience Research Group @ University of Heidelberg</a> &mdash; Map data &copy; <a href=\"http://www.openstreetmap.org/copyright\">OpenStreetMap</a>', base=True, max_zoom=20, min_zoom=1, name='basemap', options=['attribution', 'detect_retina', 'max_zoom', 'min_zoom', 'tile_size'], url='http://korona.geog.uni-heidelberg.de/tiles/roads/x={x}&y={y}&z={z}'),), layout=Layout(height='500px'), options=['attribution_control', 'basemap', 'bounce_at_zoom_limits', 'box_zoom', 'center', 'close_popup_on_click', 'double_click_zoom', 'dragging', 'inertia', 'inertia_deceleration', 'inertia_max_speed', 'keyboard', 'keyboard_pan_offset', 'keyboard_zoom_offset', 'max_zoom', 'min_zoom', 'scroll_wheel_zoom', 'tap', 'tap_tolerance', 'touch_zoom', 'world_copy_jump', 'zoom', 'zoom_animation_threshold', 'zoom_control', 'zoom_start'], zoom=8)"
      ]
     },
     "metadata": {},
     "output_type": "display_data"
    },
    {
     "data": {
      "application/vnd.jupyter.widget-view+json": {
       "model_id": "ad76281ffbf8423eabc8a61466c4bbc6",
       "version_major": 2,
       "version_minor": 0
      },
      "text/html": [
       "<p>Failed to display Jupyter Widget of type <code>HBox</code>.</p>\n",
       "<p>\n",
       "  If you're reading this message in the Jupyter Notebook or JupyterLab Notebook, it may mean\n",
       "  that the widgets JavaScript is still loading. If this message persists, it\n",
       "  likely means that the widgets JavaScript library is either not installed or\n",
       "  not enabled. See the <a href=\"https://ipywidgets.readthedocs.io/en/stable/user_install.html\">Jupyter\n",
       "  Widgets Documentation</a> for setup instructions.\n",
       "</p>\n",
       "<p>\n",
       "  If you're reading this message in another frontend (for example, a static\n",
       "  rendering on GitHub or <a href=\"https://nbviewer.jupyter.org/\">NBViewer</a>),\n",
       "  it may mean that your frontend doesn't currently support widgets.\n",
       "</p>\n"
      ],
      "text/plain": [
       "HBox(children=(Label(value=''), IntProgress(value=0, bar_style='info', layout=Layout(width='500px'))))"
      ]
     },
     "metadata": {},
     "output_type": "display_data"
    },
    {
     "data": {
      "application/vnd.jupyter.widget-view+json": {
       "model_id": "433e3504208e48c68d646b1e78b2bdbd",
       "version_major": 2,
       "version_minor": 0
      },
      "text/html": [
       "<p>Failed to display Jupyter Widget of type <code>Label</code>.</p>\n",
       "<p>\n",
       "  If you're reading this message in the Jupyter Notebook or JupyterLab Notebook, it may mean\n",
       "  that the widgets JavaScript is still loading. If this message persists, it\n",
       "  likely means that the widgets JavaScript library is either not installed or\n",
       "  not enabled. See the <a href=\"https://ipywidgets.readthedocs.io/en/stable/user_install.html\">Jupyter\n",
       "  Widgets Documentation</a> for setup instructions.\n",
       "</p>\n",
       "<p>\n",
       "  If you're reading this message in another frontend (for example, a static\n",
       "  rendering on GitHub or <a href=\"https://nbviewer.jupyter.org/\">NBViewer</a>),\n",
       "  it may mean that your frontend doesn't currently support widgets.\n",
       "</p>\n"
      ],
      "text/plain": [
       "Label(value='')"
      ]
     },
     "metadata": {},
     "output_type": "display_data"
    }
   ],
   "source": [
    "m.display()"
   ]
  },
  {
   "cell_type": "code",
   "execution_count": 6,
   "metadata": {},
   "outputs": [],
   "source": [
    "m.add_zipcode('98109')"
   ]
  },
  {
   "cell_type": "code",
   "execution_count": 7,
   "metadata": {},
   "outputs": [],
   "source": [
    "m.enable_heatmap()"
   ]
  },
  {
   "cell_type": "code",
   "execution_count": 8,
   "metadata": {},
   "outputs": [],
   "source": [
    "m.disable_heatmap()"
   ]
  },
  {
   "cell_type": "markdown",
   "metadata": {},
   "source": [
    "-----"
   ]
  },
  {
   "cell_type": "code",
   "execution_count": 9,
   "metadata": {},
   "outputs": [
    {
     "data": {
      "application/vnd.jupyter.widget-view+json": {
       "model_id": "a9f67422f81b43c1af7e48f0a565327a",
       "version_major": 2,
       "version_minor": 0
      },
      "text/html": [
       "<p>Failed to display Jupyter Widget of type <code>Map</code>.</p>\n",
       "<p>\n",
       "  If you're reading this message in the Jupyter Notebook or JupyterLab Notebook, it may mean\n",
       "  that the widgets JavaScript is still loading. If this message persists, it\n",
       "  likely means that the widgets JavaScript library is either not installed or\n",
       "  not enabled. See the <a href=\"https://ipywidgets.readthedocs.io/en/stable/user_install.html\">Jupyter\n",
       "  Widgets Documentation</a> for setup instructions.\n",
       "</p>\n",
       "<p>\n",
       "  If you're reading this message in another frontend (for example, a static\n",
       "  rendering on GitHub or <a href=\"https://nbviewer.jupyter.org/\">NBViewer</a>),\n",
       "  it may mean that your frontend doesn't currently support widgets.\n",
       "</p>\n"
      ],
      "text/plain": [
       "Map(basemap={'url': 'http://korona.geog.uni-heidelberg.de/tiles/roads/x={x}&y={y}&z={z}', 'max_zoom': 20, 'attribution': 'Imagery from <a href=\"http://giscience.uni-hd.de/\">GIScience Research Group @ University of Heidelberg</a> &mdash; Map data &copy; <a href=\"http://www.openstreetmap.org/copyright\">OpenStreetMap</a>', 'name': 'basemap'}, center=[47.621795, -122.334958], controls=(LayersControl(),), layers=(TileLayer(attribution='Imagery from <a href=\"http://giscience.uni-hd.de/\">GIScience Research Group @ University of Heidelberg</a> &mdash; Map data &copy; <a href=\"http://www.openstreetmap.org/copyright\">OpenStreetMap</a>', base=True, max_zoom=20, min_zoom=1, name='basemap', options=['attribution', 'detect_retina', 'max_zoom', 'min_zoom', 'tile_size'], url='http://korona.geog.uni-heidelberg.de/tiles/roads/x={x}&y={y}&z={z}'),), layout=Layout(height='500px'), options=['attribution_control', 'basemap', 'bounce_at_zoom_limits', 'box_zoom', 'center', 'close_popup_on_click', 'double_click_zoom', 'dragging', 'inertia', 'inertia_deceleration', 'inertia_max_speed', 'keyboard', 'keyboard_pan_offset', 'keyboard_zoom_offset', 'max_zoom', 'min_zoom', 'scroll_wheel_zoom', 'tap', 'tap_tolerance', 'touch_zoom', 'world_copy_jump', 'zoom', 'zoom_animation_threshold', 'zoom_control', 'zoom_start'], zoom=8)"
      ]
     },
     "metadata": {},
     "output_type": "display_data"
    },
    {
     "data": {
      "application/vnd.jupyter.widget-view+json": {
       "model_id": "82c96c9d119a45038b80f410e37f59c5",
       "version_major": 2,
       "version_minor": 0
      },
      "text/html": [
       "<p>Failed to display Jupyter Widget of type <code>HBox</code>.</p>\n",
       "<p>\n",
       "  If you're reading this message in the Jupyter Notebook or JupyterLab Notebook, it may mean\n",
       "  that the widgets JavaScript is still loading. If this message persists, it\n",
       "  likely means that the widgets JavaScript library is either not installed or\n",
       "  not enabled. See the <a href=\"https://ipywidgets.readthedocs.io/en/stable/user_install.html\">Jupyter\n",
       "  Widgets Documentation</a> for setup instructions.\n",
       "</p>\n",
       "<p>\n",
       "  If you're reading this message in another frontend (for example, a static\n",
       "  rendering on GitHub or <a href=\"https://nbviewer.jupyter.org/\">NBViewer</a>),\n",
       "  it may mean that your frontend doesn't currently support widgets.\n",
       "</p>\n"
      ],
      "text/plain": [
       "HBox(children=(Label(value=''), IntProgress(value=0, bar_style='info', layout=Layout(width='500px'))))"
      ]
     },
     "metadata": {},
     "output_type": "display_data"
    },
    {
     "data": {
      "application/vnd.jupyter.widget-view+json": {
       "model_id": "2b46173929e446cca818e2b7af3f3bec",
       "version_major": 2,
       "version_minor": 0
      },
      "text/html": [
       "<p>Failed to display Jupyter Widget of type <code>Label</code>.</p>\n",
       "<p>\n",
       "  If you're reading this message in the Jupyter Notebook or JupyterLab Notebook, it may mean\n",
       "  that the widgets JavaScript is still loading. If this message persists, it\n",
       "  likely means that the widgets JavaScript library is either not installed or\n",
       "  not enabled. See the <a href=\"https://ipywidgets.readthedocs.io/en/stable/user_install.html\">Jupyter\n",
       "  Widgets Documentation</a> for setup instructions.\n",
       "</p>\n",
       "<p>\n",
       "  If you're reading this message in another frontend (for example, a static\n",
       "  rendering on GitHub or <a href=\"https://nbviewer.jupyter.org/\">NBViewer</a>),\n",
       "  it may mean that your frontend doesn't currently support widgets.\n",
       "</p>\n"
      ],
      "text/plain": [
       "Label(value='')"
      ]
     },
     "metadata": {},
     "output_type": "display_data"
    }
   ],
   "source": [
    "m2 = USMap()\n",
    "m2.display()"
   ]
  },
  {
   "cell_type": "code",
   "execution_count": 10,
   "metadata": {
    "ExecuteTime": {
     "end_time": "2018-05-19T08:51:10.882042Z",
     "start_time": "2018-05-19T08:51:10.878757Z"
    },
    "scrolled": false
   },
   "outputs": [
    {
     "name": "stdout",
     "output_type": "stream",
     "text": [
      "['98001', '98002', '98003', '98004', '98005', '98006', '98007', '98008', '98010', '98011', '98012', '98014', '98019', '98020', '98021', '98022', '98023', '98024', '98026', '98027', '98028', '98029', '98030', '98031', '98032', '98033', '98034', '98036', '98037', '98038', '98039', '98040', '98042', '98043', '98045', '98047', '98050', '98051', '98052', '98053', '98055', '98056', '98057', '98058', '98059', '98065', '98068', '98070', '98072', '98074', '98075', '98077', '98087', '98092']\n"
     ]
    }
   ],
   "source": [
    "added_zipcodes = m2.add_zipcodes('98%03d' % i for i in range(100))\n",
    "print(added_zipcodes)"
   ]
  },
  {
   "cell_type": "markdown",
   "metadata": {},
   "source": [
    "-----"
   ]
  },
  {
   "cell_type": "code",
   "execution_count": 11,
   "metadata": {},
   "outputs": [
    {
     "data": {
      "application/vnd.jupyter.widget-view+json": {
       "model_id": "651ed48294bf402b94950407ec64ac13",
       "version_major": 2,
       "version_minor": 0
      },
      "text/html": [
       "<p>Failed to display Jupyter Widget of type <code>Map</code>.</p>\n",
       "<p>\n",
       "  If you're reading this message in the Jupyter Notebook or JupyterLab Notebook, it may mean\n",
       "  that the widgets JavaScript is still loading. If this message persists, it\n",
       "  likely means that the widgets JavaScript library is either not installed or\n",
       "  not enabled. See the <a href=\"https://ipywidgets.readthedocs.io/en/stable/user_install.html\">Jupyter\n",
       "  Widgets Documentation</a> for setup instructions.\n",
       "</p>\n",
       "<p>\n",
       "  If you're reading this message in another frontend (for example, a static\n",
       "  rendering on GitHub or <a href=\"https://nbviewer.jupyter.org/\">NBViewer</a>),\n",
       "  it may mean that your frontend doesn't currently support widgets.\n",
       "</p>\n"
      ],
      "text/plain": [
       "Map(basemap={'url': 'http://korona.geog.uni-heidelberg.de/tiles/roads/x={x}&y={y}&z={z}', 'max_zoom': 20, 'attribution': 'Imagery from <a href=\"http://giscience.uni-hd.de/\">GIScience Research Group @ University of Heidelberg</a> &mdash; Map data &copy; <a href=\"http://www.openstreetmap.org/copyright\">OpenStreetMap</a>', 'name': 'basemap'}, center=[47.621795, -122.334958], controls=(LayersControl(),), layers=(TileLayer(attribution='Imagery from <a href=\"http://giscience.uni-hd.de/\">GIScience Research Group @ University of Heidelberg</a> &mdash; Map data &copy; <a href=\"http://www.openstreetmap.org/copyright\">OpenStreetMap</a>', base=True, max_zoom=20, min_zoom=1, name='basemap', options=['attribution', 'detect_retina', 'max_zoom', 'min_zoom', 'tile_size'], url='http://korona.geog.uni-heidelberg.de/tiles/roads/x={x}&y={y}&z={z}'),), layout=Layout(height='500px'), options=['attribution_control', 'basemap', 'bounce_at_zoom_limits', 'box_zoom', 'center', 'close_popup_on_click', 'double_click_zoom', 'dragging', 'inertia', 'inertia_deceleration', 'inertia_max_speed', 'keyboard', 'keyboard_pan_offset', 'keyboard_zoom_offset', 'max_zoom', 'min_zoom', 'scroll_wheel_zoom', 'tap', 'tap_tolerance', 'touch_zoom', 'world_copy_jump', 'zoom', 'zoom_animation_threshold', 'zoom_control', 'zoom_start'], zoom=8)"
      ]
     },
     "metadata": {},
     "output_type": "display_data"
    },
    {
     "data": {
      "application/vnd.jupyter.widget-view+json": {
       "model_id": "d2810e04920e435f9a11eee6f524c7cc",
       "version_major": 2,
       "version_minor": 0
      },
      "text/html": [
       "<p>Failed to display Jupyter Widget of type <code>HBox</code>.</p>\n",
       "<p>\n",
       "  If you're reading this message in the Jupyter Notebook or JupyterLab Notebook, it may mean\n",
       "  that the widgets JavaScript is still loading. If this message persists, it\n",
       "  likely means that the widgets JavaScript library is either not installed or\n",
       "  not enabled. See the <a href=\"https://ipywidgets.readthedocs.io/en/stable/user_install.html\">Jupyter\n",
       "  Widgets Documentation</a> for setup instructions.\n",
       "</p>\n",
       "<p>\n",
       "  If you're reading this message in another frontend (for example, a static\n",
       "  rendering on GitHub or <a href=\"https://nbviewer.jupyter.org/\">NBViewer</a>),\n",
       "  it may mean that your frontend doesn't currently support widgets.\n",
       "</p>\n"
      ],
      "text/plain": [
       "HBox(children=(Label(value=''), IntProgress(value=0, bar_style='info', layout=Layout(width='500px'))))"
      ]
     },
     "metadata": {},
     "output_type": "display_data"
    },
    {
     "data": {
      "application/vnd.jupyter.widget-view+json": {
       "model_id": "068322fb46c641d0b9a14d676919d234",
       "version_major": 2,
       "version_minor": 0
      },
      "text/html": [
       "<p>Failed to display Jupyter Widget of type <code>Label</code>.</p>\n",
       "<p>\n",
       "  If you're reading this message in the Jupyter Notebook or JupyterLab Notebook, it may mean\n",
       "  that the widgets JavaScript is still loading. If this message persists, it\n",
       "  likely means that the widgets JavaScript library is either not installed or\n",
       "  not enabled. See the <a href=\"https://ipywidgets.readthedocs.io/en/stable/user_install.html\">Jupyter\n",
       "  Widgets Documentation</a> for setup instructions.\n",
       "</p>\n",
       "<p>\n",
       "  If you're reading this message in another frontend (for example, a static\n",
       "  rendering on GitHub or <a href=\"https://nbviewer.jupyter.org/\">NBViewer</a>),\n",
       "  it may mean that your frontend doesn't currently support widgets.\n",
       "</p>\n"
      ],
      "text/plain": [
       "Label(value='')"
      ]
     },
     "metadata": {},
     "output_type": "display_data"
    }
   ],
   "source": [
    "m3 = USMap()\n",
    "m3.display()"
   ]
  },
  {
   "cell_type": "code",
   "execution_count": 12,
   "metadata": {
    "ExecuteTime": {
     "end_time": "2018-05-19T08:51:10.876487Z",
     "start_time": "2018-05-19T08:51:10.874513Z"
    },
    "scrolled": true
   },
   "outputs": [
    {
     "data": {
      "text/plain": [
       "['98040', '98109', '98121']"
      ]
     },
     "execution_count": 12,
     "metadata": {},
     "output_type": "execute_result"
    }
   ],
   "source": [
    "m3.add_zipcodes(['98109', '98121', '98040'])"
   ]
  },
  {
   "cell_type": "markdown",
   "metadata": {},
   "source": [
    "-----"
   ]
  },
  {
   "cell_type": "code",
   "execution_count": 13,
   "metadata": {},
   "outputs": [
    {
     "data": {
      "application/vnd.jupyter.widget-view+json": {
       "model_id": "5d93984dc7cb47b9a1f5bca964edc94a",
       "version_major": 2,
       "version_minor": 0
      },
      "text/html": [
       "<p>Failed to display Jupyter Widget of type <code>Map</code>.</p>\n",
       "<p>\n",
       "  If you're reading this message in the Jupyter Notebook or JupyterLab Notebook, it may mean\n",
       "  that the widgets JavaScript is still loading. If this message persists, it\n",
       "  likely means that the widgets JavaScript library is either not installed or\n",
       "  not enabled. See the <a href=\"https://ipywidgets.readthedocs.io/en/stable/user_install.html\">Jupyter\n",
       "  Widgets Documentation</a> for setup instructions.\n",
       "</p>\n",
       "<p>\n",
       "  If you're reading this message in another frontend (for example, a static\n",
       "  rendering on GitHub or <a href=\"https://nbviewer.jupyter.org/\">NBViewer</a>),\n",
       "  it may mean that your frontend doesn't currently support widgets.\n",
       "</p>\n"
      ],
      "text/plain": [
       "Map(basemap={'url': 'http://korona.geog.uni-heidelberg.de/tiles/roads/x={x}&y={y}&z={z}', 'max_zoom': 20, 'attribution': 'Imagery from <a href=\"http://giscience.uni-hd.de/\">GIScience Research Group @ University of Heidelberg</a> &mdash; Map data &copy; <a href=\"http://www.openstreetmap.org/copyright\">OpenStreetMap</a>', 'name': 'basemap'}, center=[47.621795, -122.334958], controls=(LayersControl(),), layers=(TileLayer(attribution='Imagery from <a href=\"http://giscience.uni-hd.de/\">GIScience Research Group @ University of Heidelberg</a> &mdash; Map data &copy; <a href=\"http://www.openstreetmap.org/copyright\">OpenStreetMap</a>', base=True, max_zoom=20, min_zoom=1, name='basemap', options=['attribution', 'detect_retina', 'max_zoom', 'min_zoom', 'tile_size'], url='http://korona.geog.uni-heidelberg.de/tiles/roads/x={x}&y={y}&z={z}'),), layout=Layout(height='500px'), options=['attribution_control', 'basemap', 'bounce_at_zoom_limits', 'box_zoom', 'center', 'close_popup_on_click', 'double_click_zoom', 'dragging', 'inertia', 'inertia_deceleration', 'inertia_max_speed', 'keyboard', 'keyboard_pan_offset', 'keyboard_zoom_offset', 'max_zoom', 'min_zoom', 'scroll_wheel_zoom', 'tap', 'tap_tolerance', 'touch_zoom', 'world_copy_jump', 'zoom', 'zoom_animation_threshold', 'zoom_control', 'zoom_start'], zoom=8)"
      ]
     },
     "metadata": {},
     "output_type": "display_data"
    },
    {
     "data": {
      "application/vnd.jupyter.widget-view+json": {
       "model_id": "c35babfb1967475994d07dbad35647da",
       "version_major": 2,
       "version_minor": 0
      },
      "text/html": [
       "<p>Failed to display Jupyter Widget of type <code>HBox</code>.</p>\n",
       "<p>\n",
       "  If you're reading this message in the Jupyter Notebook or JupyterLab Notebook, it may mean\n",
       "  that the widgets JavaScript is still loading. If this message persists, it\n",
       "  likely means that the widgets JavaScript library is either not installed or\n",
       "  not enabled. See the <a href=\"https://ipywidgets.readthedocs.io/en/stable/user_install.html\">Jupyter\n",
       "  Widgets Documentation</a> for setup instructions.\n",
       "</p>\n",
       "<p>\n",
       "  If you're reading this message in another frontend (for example, a static\n",
       "  rendering on GitHub or <a href=\"https://nbviewer.jupyter.org/\">NBViewer</a>),\n",
       "  it may mean that your frontend doesn't currently support widgets.\n",
       "</p>\n"
      ],
      "text/plain": [
       "HBox(children=(Label(value=''), IntProgress(value=0, bar_style='info', layout=Layout(width='500px'))))"
      ]
     },
     "metadata": {},
     "output_type": "display_data"
    },
    {
     "data": {
      "application/vnd.jupyter.widget-view+json": {
       "model_id": "646f72231d76407096ade986122c8dc0",
       "version_major": 2,
       "version_minor": 0
      },
      "text/html": [
       "<p>Failed to display Jupyter Widget of type <code>Label</code>.</p>\n",
       "<p>\n",
       "  If you're reading this message in the Jupyter Notebook or JupyterLab Notebook, it may mean\n",
       "  that the widgets JavaScript is still loading. If this message persists, it\n",
       "  likely means that the widgets JavaScript library is either not installed or\n",
       "  not enabled. See the <a href=\"https://ipywidgets.readthedocs.io/en/stable/user_install.html\">Jupyter\n",
       "  Widgets Documentation</a> for setup instructions.\n",
       "</p>\n",
       "<p>\n",
       "  If you're reading this message in another frontend (for example, a static\n",
       "  rendering on GitHub or <a href=\"https://nbviewer.jupyter.org/\">NBViewer</a>),\n",
       "  it may mean that your frontend doesn't currently support widgets.\n",
       "</p>\n"
      ],
      "text/plain": [
       "Label(value='')"
      ]
     },
     "metadata": {},
     "output_type": "display_data"
    }
   ],
   "source": [
    "m4 = USMap()\n",
    "m4.display()"
   ]
  },
  {
   "cell_type": "code",
   "execution_count": 14,
   "metadata": {
    "ExecuteTime": {
     "end_time": "2018-05-19T08:51:10.882042Z",
     "start_time": "2018-05-19T08:51:10.878757Z"
    },
    "scrolled": false
   },
   "outputs": [
    {
     "name": "stdout",
     "output_type": "stream",
     "text": [
      "['98001', '98002', '98003', '98004', '98005', '98006', '98007', '98008', '98010', '98011', '98012', '98014', '98019', '98020', '98021', '98022', '98023', '98024', '98026', '98027', '98028', '98029', '98030', '98031', '98032', '98033', '98034', '98036', '98037', '98038', '98039', '98040', '98042', '98043', '98045', '98047', '98050', '98051', '98052', '98053', '98055', '98056', '98057', '98058', '98059', '98065', '98068', '98070', '98072', '98074', '98075', '98077', '98087', '98092']\n"
     ]
    }
   ],
   "source": [
    "added_zipcodes = m4.add_zipcodes('98%03d' % i for i in range(100))\n",
    "print(added_zipcodes)"
   ]
  },
  {
   "cell_type": "markdown",
   "metadata": {},
   "source": [
    "-----"
   ]
  }
 ],
 "metadata": {
  "kernelspec": {
   "display_name": "Python 3",
   "language": "python",
   "name": "python3"
  },
  "language_info": {
   "codemirror_mode": {
    "name": "ipython",
    "version": 3
   },
   "file_extension": ".py",
   "mimetype": "text/x-python",
   "name": "python",
   "nbconvert_exporter": "python",
   "pygments_lexer": "ipython3",
   "version": "3.6.4"
  },
  "latex_envs": {
   "LaTeX_envs_menu_present": true,
   "autoclose": false,
   "autocomplete": true,
   "bibliofile": "biblio.bib",
   "cite_by": "apalike",
   "current_citInitial": 1,
   "eqLabelWithNumbers": true,
   "eqNumInitial": 1,
   "hotkeys": {
    "equation": "Ctrl-E",
    "itemize": "Ctrl-I"
   },
   "labels_anchors": false,
   "latex_user_defs": false,
   "report_style_numbering": false,
   "user_envs_cfg": false
  },
  "toc": {
   "base_numbering": 1,
   "nav_menu": {},
   "number_sections": true,
   "sideBar": true,
   "skip_h1_title": false,
   "title_cell": "Table of Contents",
   "title_sidebar": "Contents",
   "toc_cell": false,
   "toc_position": {},
   "toc_section_display": true,
   "toc_window_display": false
  },
  "varInspector": {
   "cols": {
    "lenName": 16,
    "lenType": 16,
    "lenVar": 40
   },
   "kernels_config": {
    "python": {
     "delete_cmd_postfix": "",
     "delete_cmd_prefix": "del ",
     "library": "var_list.py",
     "varRefreshCmd": "print(var_dic_list())"
    },
    "r": {
     "delete_cmd_postfix": ") ",
     "delete_cmd_prefix": "rm(",
     "library": "var_list.r",
     "varRefreshCmd": "cat(var_dic_list()) "
    }
   },
   "types_to_exclude": [
    "module",
    "function",
    "builtin_function_or_method",
    "instance",
    "_Feature"
   ],
   "window_display": false
  }
 },
 "nbformat": 4,
 "nbformat_minor": 2
}
