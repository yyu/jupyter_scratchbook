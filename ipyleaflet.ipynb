{
 "cells": [
  {
   "cell_type": "markdown",
   "metadata": {},
   "source": [
    "-----"
   ]
  },
  {
   "cell_type": "markdown",
   "metadata": {
    "hide_input": false
   },
   "source": [
    "Keyboard shortcuts:\n",
    "\n",
    "| do this                  | by typing this   |\n",
    "| ------------------------ |------------------|\n",
    "| run cell                 | ⌃↩              |\n",
    "| run cell and select next | ⇧↩             |"
   ]
  },
  {
   "cell_type": "markdown",
   "metadata": {},
   "source": [
    "-----"
   ]
  },
  {
   "cell_type": "code",
   "execution_count": 1,
   "metadata": {
    "ExecuteTime": {
     "end_time": "2018-05-19T08:51:04.885462Z",
     "start_time": "2018-05-19T08:51:04.875906Z"
    },
    "code_folding": []
   },
   "outputs": [],
   "source": [
    "from pprint import pprint\n",
    "from string import Template\n",
    "\n",
    "import urllib.request\n",
    "import json\n",
    "import csv\n",
    "import codecs"
   ]
  },
  {
   "cell_type": "code",
   "execution_count": 2,
   "metadata": {
    "ExecuteTime": {
     "end_time": "2018-05-19T08:51:04.999241Z",
     "start_time": "2018-05-19T08:51:04.887624Z"
    },
    "code_folding": []
   },
   "outputs": [],
   "source": [
    "class USZIPCodeRepository:\n",
    "    def __init__(self, data_url_prefix = 'https://raw.githubusercontent.com/yyu/GeoJSON-US/master'):\n",
    "        self.data_url_prefix = data_url_prefix\n",
    "        self.geojson_url_prefix = f'{data_url_prefix}/perZIPgeojson'\n",
    "\n",
    "        self.refresh_zipcode_latlons(f'{data_url_prefix}/ZIPCodesGazetteer.tsv')\n",
    "        self.refresh_available_zipcodes(f'{data_url_prefix}/perZIPgeojson/all_zipcodes.txt')\n",
    "\n",
    "\n",
    "    def refresh_zipcode_latlons(self, url):\n",
    "        lines = [ line.decode('UTF8').strip() for line in urllib.request.urlopen(url).readlines() ]\n",
    "        tsv = csv.DictReader(lines, delimiter='\\t')\n",
    "        self.gazetteer = dict((d['GEOID'], {'lat': float(d['INTPTLAT']), 'lon': float(d['INTPTLONG'])}) for d in tsv)\n",
    "\n",
    "\n",
    "    def refresh_available_zipcodes(self, url):\n",
    "        lines = [ zipcode.decode('UTF8').strip() for zipcode in urllib.request.urlopen(url).readlines() ]\n",
    "        self.zipcode_list = lines[1:] # ignore the first line\n",
    "        self.zipcode_set = set(self.zipcode_list)\n",
    "\n",
    "\n",
    "    def make_url(self, zipcode):\n",
    "        return f'{self.data_url_prefix}/perZIPgeojson/{zipcode[0]}/{zipcode[1]}/{zipcode[2]}/{zipcode}.json'\n",
    "\n",
    "\n",
    "    def fetch_zipcode(self, zipcode):\n",
    "        '''returns a (dict, err) tuple where err could be a string for error message or None'''\n",
    "\n",
    "        url = self.make_url(zipcode)\n",
    "\n",
    "        try:\n",
    "            s = urllib.request.urlopen(url).read()\n",
    "        except urllib.error.URLError as e:\n",
    "            return (None, 'failed to get ' + url, ':', e.reason)\n",
    "\n",
    "        j = json.loads(s)\n",
    "\n",
    "        return (j, None)\n",
    "\n",
    "\n",
    "    def fetch_zipcodes(self, *zipcodes):\n",
    "        d = {\"type\": \"FeatureCollection\", \"features\": []}\n",
    "\n",
    "        available_zipcodes = set(zipcodes) & self.zipcode_set\n",
    "\n",
    "        for z in available_zipcodes:\n",
    "            j, err = self.fetch_zipcode(z)\n",
    "\n",
    "            if j is not None:\n",
    "                d['features'].append(j)\n",
    "\n",
    "        return d\n"
   ]
  },
  {
   "cell_type": "code",
   "execution_count": 3,
   "metadata": {},
   "outputs": [],
   "source": [
    "import ipyleaflet as leaflet\n",
    "import ipywidgets as widgets\n",
    "\n",
    "class USMap:\n",
    "    def __init__(self):\n",
    "        self.us = USZIPCodeRepository()\n",
    "\n",
    "        self.center = [47.621795, -122.334958]\n",
    "        self.zoom = 8\n",
    "        self.height = '500px'\n",
    "        self.progress_bar_width = '500px'\n",
    "        self.area_style = {'color':'#0000ff', 'weight': .5, 'fillColor':'#000077', 'fillOpacity':0.2}\n",
    "\n",
    "        self.progress_bar = widgets.IntProgress(bar_style='info', layout=widgets.Layout(width=self.progress_bar_width))\n",
    "        self.label = widgets.Label()\n",
    "        self.progress_label = widgets.Label()\n",
    "        self.info_box = widgets.HBox([self.progress_label, self.progress_bar])\n",
    "\n",
    "        self.basemap = leaflet.basemaps.OpenMapSurfer.Roads\n",
    "        self.heatmap = leaflet.basemap_to_tiles(leaflet.basemaps.Strava.All)\n",
    "        self.layers_control = leaflet.LayersControl()\n",
    "        self.map_layout = widgets.Layout(height=self.height)\n",
    "\n",
    "        self.map = leaflet.Map( center=self.center, zoom=self.zoom, basemap=self.basemap, layout=self.map_layout)\n",
    "        self.map.on_interaction(self.handle_interaction)\n",
    "        self.map.add_control(self.layers_control)\n",
    "\n",
    "\n",
    "    def enable_heatmap(self):\n",
    "        self.map.add_layer(self.heatmap)\n",
    "\n",
    "\n",
    "    def disable_heatmap(self):\n",
    "        self.map.remove_layer(self.heatmap)\n",
    "\n",
    "\n",
    "    def handle_interaction(self, **kwargs):\n",
    "        '''mouse interaction handling'''\n",
    "        if kwargs.get('type') == 'mousemove':\n",
    "            self.label.value = str(kwargs.get('coordinates'))\n",
    "\n",
    "    def fetch_zipcode(self, zipcode):\n",
    "        d, err = self.us.fetch_zipcode(zipcode)\n",
    "        if err is not None:\n",
    "            print(err)\n",
    "        return d\n",
    "\n",
    "\n",
    "    def add_point(self, lat, lng):\n",
    "        feature = {\"type\": \"Feature\", \"properties\": {}, \"geometry\": {\"type\": \"Point\", \"coordinates\": [lng, lat]}}\n",
    "        self.add_geojson(feature)\n",
    "\n",
    "\n",
    "    def add_geojson(self, geojson, name='', popup=None):\n",
    "        g = leaflet.GeoJSON(data=geojson, hover_style={'fillColor': '#00aaff'}, name=name)\n",
    "\n",
    "        if popup is not None:\n",
    "            g.popup = popup\n",
    "\n",
    "        self.map += g\n",
    "\n",
    "\n",
    "    def add_geojsons(self, geojsons, name=''):\n",
    "        d = {\"type\": \"FeatureCollection\", \"features\": list(geojsons)}\n",
    "\n",
    "        self.add_geojson(d, name)\n",
    "\n",
    "\n",
    "    def add_zipcode(self, zipcode):\n",
    "        d = self.fetch_zipcode(zipcode)\n",
    "        if d is None:\n",
    "            print('failed to add ' + zipcode + '.')\n",
    "            return\n",
    "\n",
    "        d['properties']['style'] = self.area_style\n",
    "\n",
    "        text_template = Template('''<div>ZIP Code\n",
    "                                        <ul class='list-group'>\n",
    "                                            <li class='list-group-item'>$zipcode</li>\n",
    "                                        </ul>\n",
    "                                    </div>''')\n",
    "        popup_text = text_template.substitute(zipcode=zipcode)\n",
    "        popup = widgets.HTML(value=popup_text, placeholder='', description='')\n",
    "\n",
    "        self.add_geojson(d, name=zipcode, popup=popup)\n",
    "\n",
    "\n",
    "    def add_zipcodes(self, zipcodes):\n",
    "        available_zipcodes = list(set(zipcodes) & self.us.zipcode_set)\n",
    "        available_zipcodes.sort()\n",
    "\n",
    "        self.progress_bar.value = self.progress_bar.min\n",
    "        self.progress_bar.max = len(available_zipcodes)\n",
    "\n",
    "        for z in available_zipcodes:\n",
    "            self.progress_label.value = z\n",
    "            self.add_zipcode(z)\n",
    "            self.progress_bar.value += 1\n",
    "\n",
    "        return available_zipcodes\n",
    "\n",
    "\n",
    "    def display(self):\n",
    "        display(self.map)\n",
    "        display(self.info_box)\n",
    "        display(self.label)"
   ]
  },
  {
   "cell_type": "code",
   "execution_count": 4,
   "metadata": {
    "ExecuteTime": {
     "end_time": "2018-05-19T08:51:10.872289Z",
     "start_time": "2018-05-19T08:51:10.868936Z"
    }
   },
   "outputs": [],
   "source": [
    "m = USMap()"
   ]
  },
  {
   "cell_type": "code",
   "execution_count": 5,
   "metadata": {},
   "outputs": [
    {
     "data": {
      "application/vnd.jupyter.widget-view+json": {
       "model_id": "52ca906e5b1948ecaf8e2616ee30f778",
       "version_major": 2,
       "version_minor": 0
      },
      "text/html": [
       "<p>Failed to display Jupyter Widget of type <code>Map</code>.</p>\n",
       "<p>\n",
       "  If you're reading this message in the Jupyter Notebook or JupyterLab Notebook, it may mean\n",
       "  that the widgets JavaScript is still loading. If this message persists, it\n",
       "  likely means that the widgets JavaScript library is either not installed or\n",
       "  not enabled. See the <a href=\"https://ipywidgets.readthedocs.io/en/stable/user_install.html\">Jupyter\n",
       "  Widgets Documentation</a> for setup instructions.\n",
       "</p>\n",
       "<p>\n",
       "  If you're reading this message in another frontend (for example, a static\n",
       "  rendering on GitHub or <a href=\"https://nbviewer.jupyter.org/\">NBViewer</a>),\n",
       "  it may mean that your frontend doesn't currently support widgets.\n",
       "</p>\n"
      ],
      "text/plain": [
       "Map(basemap={'url': 'http://korona.geog.uni-heidelberg.de/tiles/roads/x={x}&y={y}&z={z}', 'max_zoom': 20, 'attribution': 'Imagery from <a href=\"http://giscience.uni-hd.de/\">GIScience Research Group @ University of Heidelberg</a> &mdash; Map data &copy; <a href=\"http://www.openstreetmap.org/copyright\">OpenStreetMap</a>', 'name': 'OpenMapSurfer.Roads'}, center=[47.621795, -122.334958], controls=(LayersControl(),), layers=(TileLayer(attribution='Imagery from <a href=\"http://giscience.uni-hd.de/\">GIScience Research Group @ University of Heidelberg</a> &mdash; Map data &copy; <a href=\"http://www.openstreetmap.org/copyright\">OpenStreetMap</a>', base=True, max_zoom=20, min_zoom=1, name='OpenMapSurfer.Roads', options=['attribution', 'detect_retina', 'max_zoom', 'min_zoom', 'tile_size'], url='http://korona.geog.uni-heidelberg.de/tiles/roads/x={x}&y={y}&z={z}'),), layout=Layout(height='500px'), options=['attribution_control', 'basemap', 'bounce_at_zoom_limits', 'box_zoom', 'center', 'close_popup_on_click', 'double_click_zoom', 'dragging', 'inertia', 'inertia_deceleration', 'inertia_max_speed', 'keyboard', 'keyboard_pan_offset', 'keyboard_zoom_offset', 'max_zoom', 'min_zoom', 'scroll_wheel_zoom', 'tap', 'tap_tolerance', 'touch_zoom', 'world_copy_jump', 'zoom', 'zoom_animation_threshold', 'zoom_control', 'zoom_start'], zoom=8)"
      ]
     },
     "metadata": {},
     "output_type": "display_data"
    },
    {
     "data": {
      "application/vnd.jupyter.widget-view+json": {
       "model_id": "f048ad6b70fe4ba685975e7624f61019",
       "version_major": 2,
       "version_minor": 0
      },
      "text/html": [
       "<p>Failed to display Jupyter Widget of type <code>HBox</code>.</p>\n",
       "<p>\n",
       "  If you're reading this message in the Jupyter Notebook or JupyterLab Notebook, it may mean\n",
       "  that the widgets JavaScript is still loading. If this message persists, it\n",
       "  likely means that the widgets JavaScript library is either not installed or\n",
       "  not enabled. See the <a href=\"https://ipywidgets.readthedocs.io/en/stable/user_install.html\">Jupyter\n",
       "  Widgets Documentation</a> for setup instructions.\n",
       "</p>\n",
       "<p>\n",
       "  If you're reading this message in another frontend (for example, a static\n",
       "  rendering on GitHub or <a href=\"https://nbviewer.jupyter.org/\">NBViewer</a>),\n",
       "  it may mean that your frontend doesn't currently support widgets.\n",
       "</p>\n"
      ],
      "text/plain": [
       "HBox(children=(Label(value=''), IntProgress(value=0, bar_style='info', layout=Layout(width='500px'))))"
      ]
     },
     "metadata": {},
     "output_type": "display_data"
    },
    {
     "data": {
      "application/vnd.jupyter.widget-view+json": {
       "model_id": "121b768749d74c8e976aee91298be078",
       "version_major": 2,
       "version_minor": 0
      },
      "text/html": [
       "<p>Failed to display Jupyter Widget of type <code>Label</code>.</p>\n",
       "<p>\n",
       "  If you're reading this message in the Jupyter Notebook or JupyterLab Notebook, it may mean\n",
       "  that the widgets JavaScript is still loading. If this message persists, it\n",
       "  likely means that the widgets JavaScript library is either not installed or\n",
       "  not enabled. See the <a href=\"https://ipywidgets.readthedocs.io/en/stable/user_install.html\">Jupyter\n",
       "  Widgets Documentation</a> for setup instructions.\n",
       "</p>\n",
       "<p>\n",
       "  If you're reading this message in another frontend (for example, a static\n",
       "  rendering on GitHub or <a href=\"https://nbviewer.jupyter.org/\">NBViewer</a>),\n",
       "  it may mean that your frontend doesn't currently support widgets.\n",
       "</p>\n"
      ],
      "text/plain": [
       "Label(value='')"
      ]
     },
     "metadata": {},
     "output_type": "display_data"
    }
   ],
   "source": [
    "m.display()"
   ]
  },
  {
   "cell_type": "code",
   "execution_count": 6,
   "metadata": {},
   "outputs": [],
   "source": [
    "m.add_zipcode('98109')"
   ]
  },
  {
   "cell_type": "code",
   "execution_count": 7,
   "metadata": {},
   "outputs": [],
   "source": [
    "m.enable_heatmap()"
   ]
  },
  {
   "cell_type": "code",
   "execution_count": 8,
   "metadata": {},
   "outputs": [],
   "source": [
    "m.disable_heatmap()"
   ]
  },
  {
   "cell_type": "code",
   "execution_count": 9,
   "metadata": {
    "ExecuteTime": {
     "end_time": "2018-05-19T08:51:10.876487Z",
     "start_time": "2018-05-19T08:51:10.874513Z"
    }
   },
   "outputs": [],
   "source": [
    "zipcodes = ('98109', '98121', '98040')"
   ]
  },
  {
   "cell_type": "code",
   "execution_count": 10,
   "metadata": {
    "ExecuteTime": {
     "end_time": "2018-05-19T08:51:10.882042Z",
     "start_time": "2018-05-19T08:51:10.878757Z"
    }
   },
   "outputs": [],
   "source": [
    "zipcodes = ('98%03d' % i for i in range(100))"
   ]
  },
  {
   "cell_type": "code",
   "execution_count": 11,
   "metadata": {},
   "outputs": [
    {
     "data": {
      "text/plain": [
       "['98001',\n",
       " '98002',\n",
       " '98003',\n",
       " '98004',\n",
       " '98005',\n",
       " '98006',\n",
       " '98007',\n",
       " '98008',\n",
       " '98010',\n",
       " '98011',\n",
       " '98012',\n",
       " '98014',\n",
       " '98019',\n",
       " '98020',\n",
       " '98021',\n",
       " '98022',\n",
       " '98023',\n",
       " '98024',\n",
       " '98026',\n",
       " '98027',\n",
       " '98028',\n",
       " '98029',\n",
       " '98030',\n",
       " '98031',\n",
       " '98032',\n",
       " '98033',\n",
       " '98034',\n",
       " '98036',\n",
       " '98037',\n",
       " '98038',\n",
       " '98039',\n",
       " '98040',\n",
       " '98042',\n",
       " '98043',\n",
       " '98045',\n",
       " '98047',\n",
       " '98050',\n",
       " '98051',\n",
       " '98052',\n",
       " '98053',\n",
       " '98055',\n",
       " '98056',\n",
       " '98057',\n",
       " '98058',\n",
       " '98059',\n",
       " '98065',\n",
       " '98068',\n",
       " '98070',\n",
       " '98072',\n",
       " '98074',\n",
       " '98075',\n",
       " '98077',\n",
       " '98087',\n",
       " '98092']"
      ]
     },
     "execution_count": 11,
     "metadata": {},
     "output_type": "execute_result"
    }
   ],
   "source": [
    "m.add_zipcodes(zipcodes)"
   ]
  },
  {
   "cell_type": "markdown",
   "metadata": {},
   "source": [
    "-----"
   ]
  }
 ],
 "metadata": {
  "kernelspec": {
   "display_name": "Python 3",
   "language": "python",
   "name": "python3"
  },
  "language_info": {
   "codemirror_mode": {
    "name": "ipython",
    "version": 3
   },
   "file_extension": ".py",
   "mimetype": "text/x-python",
   "name": "python",
   "nbconvert_exporter": "python",
   "pygments_lexer": "ipython3",
   "version": "3.6.4"
  },
  "latex_envs": {
   "LaTeX_envs_menu_present": true,
   "autoclose": false,
   "autocomplete": true,
   "bibliofile": "biblio.bib",
   "cite_by": "apalike",
   "current_citInitial": 1,
   "eqLabelWithNumbers": true,
   "eqNumInitial": 1,
   "hotkeys": {
    "equation": "Ctrl-E",
    "itemize": "Ctrl-I"
   },
   "labels_anchors": false,
   "latex_user_defs": false,
   "report_style_numbering": false,
   "user_envs_cfg": false
  },
  "toc": {
   "base_numbering": 1,
   "nav_menu": {},
   "number_sections": true,
   "sideBar": true,
   "skip_h1_title": false,
   "title_cell": "Table of Contents",
   "title_sidebar": "Contents",
   "toc_cell": false,
   "toc_position": {},
   "toc_section_display": true,
   "toc_window_display": false
  },
  "varInspector": {
   "cols": {
    "lenName": 16,
    "lenType": 16,
    "lenVar": 40
   },
   "kernels_config": {
    "python": {
     "delete_cmd_postfix": "",
     "delete_cmd_prefix": "del ",
     "library": "var_list.py",
     "varRefreshCmd": "print(var_dic_list())"
    },
    "r": {
     "delete_cmd_postfix": ") ",
     "delete_cmd_prefix": "rm(",
     "library": "var_list.r",
     "varRefreshCmd": "cat(var_dic_list()) "
    }
   },
   "types_to_exclude": [
    "module",
    "function",
    "builtin_function_or_method",
    "instance",
    "_Feature"
   ],
   "window_display": false
  }
 },
 "nbformat": 4,
 "nbformat_minor": 2
}
