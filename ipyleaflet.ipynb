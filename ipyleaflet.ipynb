{
 "cells": [
  {
   "cell_type": "markdown",
   "metadata": {},
   "source": [
    "-----"
   ]
  },
  {
   "cell_type": "markdown",
   "metadata": {
    "hide_input": false
   },
   "source": [
    "Keyboard shortcuts:\n",
    "\n",
    "| do this                  | by typing this   |\n",
    "| ------------------------ |------------------|\n",
    "| run cell                 | ⌃↩              |\n",
    "| run cell and select next | ⇧↩             |"
   ]
  },
  {
   "cell_type": "markdown",
   "metadata": {},
   "source": [
    "-----"
   ]
  },
  {
   "cell_type": "code",
   "execution_count": 1,
   "metadata": {
    "ExecuteTime": {
     "end_time": "2018-05-26T08:40:53.869628Z",
     "start_time": "2018-05-26T08:40:53.824172Z"
    },
    "code_folding": [],
    "hide_input": false
   },
   "outputs": [],
   "source": [
    "from pprint import pprint\n",
    "from string import Template\n",
    "\n",
    "import urllib.request\n",
    "import json\n",
    "import csv\n",
    "import codecs"
   ]
  },
  {
   "cell_type": "code",
   "execution_count": 2,
   "metadata": {
    "ExecuteTime": {
     "end_time": "2018-05-26T08:40:53.885247Z",
     "start_time": "2018-05-26T08:40:53.872258Z"
    },
    "code_folding": [],
    "hide_input": true
   },
   "outputs": [],
   "source": [
    "class USZIPCodeRepository:\n",
    "    CACHE = {}\n",
    "\n",
    "    def __init__(self, data_url_prefix = 'https://raw.githubusercontent.com/yyu/GeoJSON-US/master'):\n",
    "        self.data_url_prefix = data_url_prefix\n",
    "        self.geojson_url_prefix = f'{data_url_prefix}/perZIPgeojson'\n",
    "\n",
    "        self.refresh_zipcode_latlons(f'{data_url_prefix}/ZIPCodesGazetteer.tsv')\n",
    "        self.refresh_available_zipcodes(f'{data_url_prefix}/perZIPgeojson/all_zipcodes.txt')\n",
    "\n",
    "\n",
    "    def refresh_zipcode_latlons(self, url):\n",
    "        lines = [ line.decode('UTF8').strip() for line in urllib.request.urlopen(url).readlines() ]\n",
    "        tsv = csv.DictReader(lines, delimiter='\\t')\n",
    "        self.gazetteer = dict((d['GEOID'], {'lat': float(d['INTPTLAT']), 'lon': float(d['INTPTLONG'])}) for d in tsv)\n",
    "\n",
    "\n",
    "    def refresh_available_zipcodes(self, url):\n",
    "        lines = [ zipcode.decode('UTF8').strip() for zipcode in urllib.request.urlopen(url).readlines() ]\n",
    "        self.zipcode_list = lines[1:] # ignore the first line\n",
    "        self.zipcode_set = set(self.zipcode_list)\n",
    "\n",
    "\n",
    "    def make_url(self, zipcode):\n",
    "        return f'{self.data_url_prefix}/perZIPgeojson/{zipcode[0]}/{zipcode[1]}/{zipcode[2]}/{zipcode}.json'\n",
    "\n",
    "\n",
    "    def fetch_zipcode(self, zipcode):\n",
    "        '''returns a (dict, err) tuple where err could be a string for error message or None'''\n",
    "\n",
    "        url = self.make_url(zipcode)\n",
    "\n",
    "        if url in USZIPCodeRepository.CACHE:\n",
    "            return (USZIPCodeRepository.CACHE[url], None)\n",
    "\n",
    "        try:\n",
    "            s = urllib.request.urlopen(url).read()\n",
    "        except urllib.error.URLError as e:\n",
    "            return (None, 'failed to get ' + url, ':', e.reason)\n",
    "\n",
    "        j = json.loads(s)\n",
    "\n",
    "        USZIPCodeRepository.CACHE[url] = j\n",
    "\n",
    "        return (j, None)\n",
    "\n",
    "\n",
    "    def fetch_zipcodes(self, *zipcodes):\n",
    "        d = {\"type\": \"FeatureCollection\", \"features\": []}\n",
    "\n",
    "        available_zipcodes = set(zipcodes) & self.zipcode_set\n",
    "\n",
    "        for z in available_zipcodes:\n",
    "            j, err = self.fetch_zipcode(z)\n",
    "\n",
    "            if j is not None:\n",
    "                d['features'].append(j)\n",
    "\n",
    "        return d\n"
   ]
  },
  {
   "cell_type": "code",
   "execution_count": 3,
   "metadata": {
    "ExecuteTime": {
     "end_time": "2018-05-26T08:40:53.915639Z",
     "start_time": "2018-05-26T08:40:53.888819Z"
    },
    "code_folding": [],
    "hide_input": true
   },
   "outputs": [],
   "source": [
    "import ipyleaflet as leaflet\n",
    "import ipywidgets as widgets\n",
    "\n",
    "class USMap:\n",
    "    def __init__(self):\n",
    "        self.us = USZIPCodeRepository()\n",
    "\n",
    "        self.center = [47.621795, -122.334958]\n",
    "        self.zoom = 8\n",
    "        self.height = '500px'\n",
    "        self.progress_bar_width = '500px'\n",
    "        self.area_style = {'color':'#0000ff', 'weight': .5, 'fillColor':'#000077', 'fillOpacity':0.2}\n",
    "\n",
    "        self.progress_bar = widgets.IntProgress(bar_style='info', layout=widgets.Layout(width=self.progress_bar_width))\n",
    "        self.label = widgets.Label()\n",
    "        self.progress_label = widgets.Label()\n",
    "        self.info_box = widgets.HBox([self.progress_label, self.progress_bar])\n",
    "\n",
    "        self.basemap = leaflet.basemaps.OpenMapSurfer.Roads\n",
    "        self.basemap['name'] = 'basemap'\n",
    "        self.heatmap_data = leaflet.basemaps.Strava.All\n",
    "        self.heatmap_data['name'] = 'heatmap'\n",
    "        self.heatmap = leaflet.basemap_to_tiles(self.heatmap_data)\n",
    "        self.layers_control = leaflet.LayersControl()\n",
    "        self.map_layout = widgets.Layout(height=self.height)\n",
    "\n",
    "        self.map = None\n",
    "\n",
    "\n",
    "    def enable_heatmap(self):\n",
    "        self.map.add_layer(self.heatmap)\n",
    "\n",
    "\n",
    "    def disable_heatmap(self):\n",
    "        self.map.remove_layer(self.heatmap)\n",
    "\n",
    "\n",
    "    def handle_interaction(self, **kwargs):\n",
    "        '''mouse interaction handling'''\n",
    "        if kwargs.get('type') == 'mousemove':\n",
    "            self.label.value = str(kwargs.get('coordinates'))\n",
    "\n",
    "    def fetch_zipcode(self, zipcode):\n",
    "        d, err = self.us.fetch_zipcode(zipcode)\n",
    "        if err is not None:\n",
    "            print(err)\n",
    "        return d\n",
    "\n",
    "\n",
    "    def add_point(self, lat, lng, name='', popup=None):\n",
    "        feature = {\"type\": \"Feature\", \"properties\": {}, \"geometry\": {\"type\": \"Point\", \"coordinates\": [lng, lat]}}\n",
    "        self.add_geojson(feature, name, popup)\n",
    "\n",
    "\n",
    "    def add_geojson(self, geojson, name='', popup=None):\n",
    "        g = leaflet.GeoJSON(data=geojson, hover_style={'fillColor': '#00aaff'}, name=name)\n",
    "\n",
    "        if popup is not None:\n",
    "            g.popup = popup\n",
    "\n",
    "        self.map += g\n",
    "\n",
    "\n",
    "    def add_geojsons(self, geojsons, name=''):\n",
    "        d = {\"type\": \"FeatureCollection\", \"features\": list(geojsons)}\n",
    "\n",
    "        self.add_geojson(d, name)\n",
    "\n",
    "\n",
    "    def add_zipcode(self, zipcode):\n",
    "        d = self.fetch_zipcode(zipcode)\n",
    "        if d is None:\n",
    "            print('failed to add ' + zipcode + '.')\n",
    "            return\n",
    "\n",
    "        d['properties']['style'] = self.area_style\n",
    "\n",
    "        text_template = Template('''<div>ZIP Code\n",
    "                                        <ul class='list-group'>\n",
    "                                            <li class='list-group-item'>$zipcode</li>\n",
    "                                        </ul>\n",
    "                                    </div>''')\n",
    "        popup_text = text_template.substitute(zipcode=zipcode)\n",
    "        popup = widgets.HTML(value=popup_text, placeholder='', description='')\n",
    "\n",
    "        self.add_geojson(d, name=zipcode, popup=popup)\n",
    "\n",
    "\n",
    "    def progressive_iter(self, iterable, n=None, label_on_finish=''):\n",
    "        display(self.info_box)\n",
    "        \n",
    "        if n is None:\n",
    "            n = len(iterable)\n",
    "\n",
    "        self.progress_bar.value = self.progress_bar.min\n",
    "        self.progress_bar.max = n\n",
    "\n",
    "        for v in iterable:\n",
    "            yield v\n",
    "            self.progress_label.value = v\n",
    "            self.progress_bar.value += 1\n",
    "\n",
    "        self.progress_label.value = label_on_finish\n",
    "\n",
    "\n",
    "    def add_zipcodes_no_check(self, zipcodes, show_progress=False):\n",
    "        zipcode_gen = self.progressive_iter(zipcodes) if show_progress else zipcodes\n",
    "\n",
    "        for z in zipcode_gen:\n",
    "            self.add_zipcode(z)\n",
    "\n",
    "        return zipcodes\n",
    "\n",
    "\n",
    "    def add_zipcodes(self, zipcodes, show_progress=False):\n",
    "        zipcodes = set(zipcodes)\n",
    "        available_zipcodes = list(zipcodes & self.us.zipcode_set)\n",
    "        available_zipcodes.sort()\n",
    "\n",
    "        return self.add_zipcodes_no_check(available_zipcodes, show_progress)\n",
    "\n",
    "\n",
    "    def display(self):\n",
    "        if self.map is None:\n",
    "            self.map = leaflet.Map( center=self.center, zoom=self.zoom, basemap=self.basemap, layout=self.map_layout)\n",
    "            self.map.on_interaction(self.handle_interaction)\n",
    "            self.map.add_control(self.layers_control)\n",
    "\n",
    "        display(self.map)\n",
    "        display(self.label)"
   ]
  },
  {
   "cell_type": "code",
   "execution_count": 4,
   "metadata": {
    "ExecuteTime": {
     "end_time": "2018-05-26T08:40:56.333248Z",
     "start_time": "2018-05-26T08:40:53.919467Z"
    }
   },
   "outputs": [
    {
     "data": {
      "application/vnd.jupyter.widget-view+json": {
       "model_id": "ee605d8401114e6db19f7735c6ab1e46",
       "version_major": 2,
       "version_minor": 0
      },
      "text/plain": [
       "Map(basemap={'url': 'http://korona.geog.uni-heidelberg.de/tiles/roads/x={x}&y={y}&z={z}', 'max_zoom': 20, 'att…"
      ]
     },
     "metadata": {},
     "output_type": "display_data"
    },
    {
     "data": {
      "application/vnd.jupyter.widget-view+json": {
       "model_id": "34eb7e36c70745afb15929af61da5539",
       "version_major": 2,
       "version_minor": 0
      },
      "text/plain": [
       "Label(value='')"
      ]
     },
     "metadata": {},
     "output_type": "display_data"
    }
   ],
   "source": [
    "m = USMap()\n",
    "m.area_style = {'color':'#00ff00', 'weight': .5, 'fillColor':'#007700', 'fillOpacity':0.5}\n",
    "#m.zoom = 11\n",
    "\n",
    "m.display()"
   ]
  },
  {
   "cell_type": "code",
   "execution_count": 5,
   "metadata": {
    "ExecuteTime": {
     "end_time": "2018-05-26T08:41:13.094892Z",
     "start_time": "2018-05-26T08:40:56.336534Z"
    }
   },
   "outputs": [
    {
     "data": {
      "application/vnd.jupyter.widget-view+json": {
       "model_id": "660d73e91b844879a4c375ae639d275a",
       "version_major": 2,
       "version_minor": 0
      },
      "text/plain": [
       "HBox(children=(Label(value=''), IntProgress(value=0, bar_style='info', layout=Layout(width='500px'))))"
      ]
     },
     "metadata": {},
     "output_type": "display_data"
    },
    {
     "name": "stdout",
     "output_type": "stream",
     "text": [
      "['98001', '98002', '98003', '98004', '98005', '98006', '98007', '98008', '98010', '98011', '98012', '98014', '98019', '98020', '98021', '98022', '98023', '98024', '98026', '98027', '98028', '98029', '98030', '98031', '98032', '98033', '98034', '98036', '98037', '98038', '98039', '98040', '98042', '98043', '98045', '98047', '98050', '98051', '98052', '98053', '98055', '98056', '98057', '98058', '98059', '98065', '98068', '98070', '98072', '98074', '98075', '98077', '98087', '98092']\n"
     ]
    }
   ],
   "source": [
    "added_zipcodes = m.add_zipcodes(('98%03d' % i for i in range(100)), show_progress=True)\n",
    "print(added_zipcodes)"
   ]
  },
  {
   "cell_type": "code",
   "execution_count": 6,
   "metadata": {
    "ExecuteTime": {
     "end_time": "2018-05-26T08:41:13.253243Z",
     "start_time": "2018-05-26T08:41:13.097270Z"
    }
   },
   "outputs": [],
   "source": [
    "m.add_zipcode('98109')"
   ]
  },
  {
   "cell_type": "code",
   "execution_count": 7,
   "metadata": {
    "ExecuteTime": {
     "end_time": "2018-05-26T08:41:13.264012Z",
     "start_time": "2018-05-26T08:41:13.256336Z"
    },
    "hide_input": true
   },
   "outputs": [],
   "source": [
    "m.enable_heatmap()"
   ]
  },
  {
   "cell_type": "code",
   "execution_count": 8,
   "metadata": {
    "ExecuteTime": {
     "end_time": "2018-05-26T08:41:13.274327Z",
     "start_time": "2018-05-26T08:41:13.267791Z"
    },
    "hide_input": true
   },
   "outputs": [],
   "source": [
    "#m.disable_heatmap()"
   ]
  },
  {
   "cell_type": "markdown",
   "metadata": {},
   "source": [
    "-----"
   ]
  },
  {
   "cell_type": "code",
   "execution_count": 9,
   "metadata": {
    "ExecuteTime": {
     "end_time": "2018-05-26T08:41:16.052669Z",
     "start_time": "2018-05-26T08:41:13.277944Z"
    }
   },
   "outputs": [
    {
     "data": {
      "application/vnd.jupyter.widget-view+json": {
       "model_id": "030c13bdc47143e7a8b412bf25b1c2c5",
       "version_major": 2,
       "version_minor": 0
      },
      "text/plain": [
       "Map(basemap={'url': 'http://korona.geog.uni-heidelberg.de/tiles/roads/x={x}&y={y}&z={z}', 'max_zoom': 20, 'att…"
      ]
     },
     "metadata": {},
     "output_type": "display_data"
    },
    {
     "data": {
      "application/vnd.jupyter.widget-view+json": {
       "model_id": "1a9cb69e6074400794f661fbd7baf5b8",
       "version_major": 2,
       "version_minor": 0
      },
      "text/plain": [
       "Label(value='')"
      ]
     },
     "metadata": {},
     "output_type": "display_data"
    }
   ],
   "source": [
    "m2 = USMap()\n",
    "m2.display()"
   ]
  },
  {
   "cell_type": "code",
   "execution_count": 10,
   "metadata": {
    "ExecuteTime": {
     "end_time": "2018-05-26T08:41:18.390306Z",
     "start_time": "2018-05-26T08:41:16.055559Z"
    },
    "scrolled": false
   },
   "outputs": [
    {
     "name": "stdout",
     "output_type": "stream",
     "text": [
      "['98001', '98002', '98003', '98004', '98005', '98006', '98007', '98008', '98010', '98011', '98012', '98014', '98019', '98020', '98021', '98022', '98023', '98024', '98026', '98027', '98028', '98029', '98030', '98031', '98032', '98033', '98034', '98036', '98037', '98038', '98039', '98040', '98042', '98043', '98045', '98047', '98050', '98051', '98052', '98053', '98055', '98056', '98057', '98058', '98059', '98065', '98068', '98070', '98072', '98074', '98075', '98077', '98087', '98092']\n"
     ]
    }
   ],
   "source": [
    "added_zipcodes = m2.add_zipcodes('98%03d' % i for i in range(100))\n",
    "print(added_zipcodes)"
   ]
  },
  {
   "cell_type": "markdown",
   "metadata": {},
   "source": [
    "-----"
   ]
  },
  {
   "cell_type": "code",
   "execution_count": 11,
   "metadata": {
    "ExecuteTime": {
     "end_time": "2018-05-26T08:41:21.334677Z",
     "start_time": "2018-05-26T08:41:18.395101Z"
    }
   },
   "outputs": [
    {
     "data": {
      "application/vnd.jupyter.widget-view+json": {
       "model_id": "f1123e3c945e48c6990a6460dbd9fe96",
       "version_major": 2,
       "version_minor": 0
      },
      "text/plain": [
       "Map(basemap={'url': 'http://korona.geog.uni-heidelberg.de/tiles/roads/x={x}&y={y}&z={z}', 'max_zoom': 20, 'att…"
      ]
     },
     "metadata": {},
     "output_type": "display_data"
    },
    {
     "data": {
      "application/vnd.jupyter.widget-view+json": {
       "model_id": "b59c1f7c938d47ce8f6afb80164a551e",
       "version_major": 2,
       "version_minor": 0
      },
      "text/plain": [
       "Label(value='')"
      ]
     },
     "metadata": {},
     "output_type": "display_data"
    }
   ],
   "source": [
    "m3 = USMap()\n",
    "m3.zoom = 11\n",
    "m3.display()"
   ]
  },
  {
   "cell_type": "code",
   "execution_count": 12,
   "metadata": {
    "ExecuteTime": {
     "end_time": "2018-05-26T08:41:21.543639Z",
     "start_time": "2018-05-26T08:41:21.337904Z"
    },
    "scrolled": true
   },
   "outputs": [
    {
     "data": {
      "text/plain": [
       "['98040', '98109', '98121']"
      ]
     },
     "execution_count": 12,
     "metadata": {},
     "output_type": "execute_result"
    }
   ],
   "source": [
    "m3.add_zipcodes(['98109', '98121', '98040'])"
   ]
  },
  {
   "cell_type": "markdown",
   "metadata": {},
   "source": [
    "-----"
   ]
  },
  {
   "cell_type": "code",
   "execution_count": 13,
   "metadata": {
    "ExecuteTime": {
     "end_time": "2018-05-26T08:41:24.492929Z",
     "start_time": "2018-05-26T08:41:21.546619Z"
    }
   },
   "outputs": [
    {
     "data": {
      "application/vnd.jupyter.widget-view+json": {
       "model_id": "8dc3ef6e5219441fb5fef75e9c3eb05f",
       "version_major": 2,
       "version_minor": 0
      },
      "text/plain": [
       "Map(basemap={'url': 'http://korona.geog.uni-heidelberg.de/tiles/roads/x={x}&y={y}&z={z}', 'max_zoom': 20, 'att…"
      ]
     },
     "metadata": {},
     "output_type": "display_data"
    },
    {
     "data": {
      "application/vnd.jupyter.widget-view+json": {
       "model_id": "b3d0662c52b64f59855472a5e54c92d5",
       "version_major": 2,
       "version_minor": 0
      },
      "text/plain": [
       "Label(value='')"
      ]
     },
     "metadata": {},
     "output_type": "display_data"
    }
   ],
   "source": [
    "m4 = USMap()\n",
    "m4.display()"
   ]
  },
  {
   "cell_type": "code",
   "execution_count": 14,
   "metadata": {
    "ExecuteTime": {
     "end_time": "2018-05-26T08:41:27.288395Z",
     "start_time": "2018-05-26T08:41:24.497853Z"
    },
    "scrolled": false
   },
   "outputs": [
    {
     "name": "stdout",
     "output_type": "stream",
     "text": [
      "['98001', '98002', '98003', '98004', '98005', '98006', '98007', '98008', '98010', '98011', '98012', '98014', '98019', '98020', '98021', '98022', '98023', '98024', '98026', '98027', '98028', '98029', '98030', '98031', '98032', '98033', '98034', '98036', '98037', '98038', '98039', '98040', '98042', '98043', '98045', '98047', '98050', '98051', '98052', '98053', '98055', '98056', '98057', '98058', '98059', '98065', '98068', '98070', '98072', '98074', '98075', '98077', '98087', '98092']\n"
     ]
    }
   ],
   "source": [
    "added_zipcodes = m4.add_zipcodes('98%03d' % i for i in range(100))\n",
    "print(added_zipcodes)"
   ]
  },
  {
   "cell_type": "markdown",
   "metadata": {},
   "source": [
    "-----"
   ]
  },
  {
   "cell_type": "code",
   "execution_count": 15,
   "metadata": {
    "ExecuteTime": {
     "end_time": "2018-05-26T08:41:33.999751Z",
     "start_time": "2018-05-26T08:41:27.291895Z"
    },
    "scrolled": false
   },
   "outputs": [
    {
     "data": {
      "application/vnd.jupyter.widget-view+json": {
       "model_id": "03e782aef1e549bdaf445ee546f86217",
       "version_major": 2,
       "version_minor": 0
      },
      "text/plain": [
       "Map(basemap={'url': 'http://korona.geog.uni-heidelberg.de/tiles/roads/x={x}&y={y}&z={z}', 'max_zoom': 20, 'att…"
      ]
     },
     "metadata": {},
     "output_type": "display_data"
    },
    {
     "data": {
      "application/vnd.jupyter.widget-view+json": {
       "model_id": "dcbb707a2feb461e9b2c8ad1f297f3d3",
       "version_major": 2,
       "version_minor": 0
      },
      "text/plain": [
       "Label(value='')"
      ]
     },
     "metadata": {},
     "output_type": "display_data"
    }
   ],
   "source": [
    "m5 = USMap()\n",
    "marker90033 = m5.us.gazetteer['90033']\n",
    "m5.center = [marker90033['lat'], marker90033['lon']]\n",
    "m5.display()"
   ]
  },
  {
   "cell_type": "code",
   "execution_count": 16,
   "metadata": {
    "ExecuteTime": {
     "end_time": "2018-05-26T08:42:00.478814Z",
     "start_time": "2018-05-26T08:41:34.005342Z"
    },
    "hide_input": true,
    "scrolled": true
   },
   "outputs": [
    {
     "data": {
      "application/vnd.jupyter.widget-view+json": {
       "model_id": "72e6deeeff724913b8cc34eb999cee60",
       "version_major": 2,
       "version_minor": 0
      },
      "text/plain": [
       "HBox(children=(Label(value=''), IntProgress(value=0, bar_style='info', layout=Layout(width='500px'))))"
      ]
     },
     "metadata": {},
     "output_type": "display_data"
    },
    {
     "name": "stdout",
     "output_type": "stream",
     "text": [
      "['90001', '90002', '90003', '90004', '90005', '90006', '90007', '90008', '90010', '90011', '90012', '90013', '90014', '90015', '90016', '90017', '90018', '90019', '90020', '90021', '90022', '90023', '90024', '90025', '90026', '90027', '90028', '90029', '90031', '90032', '90033', '90034', '90035', '90036', '90037', '90038', '90039', '90040', '90041', '90042', '90043', '90044', '90045', '90046', '90047', '90048', '90049', '90056', '90057', '90058', '90059', '90061', '90062', '90063', '90064', '90065', '90066', '90067', '90068', '90069', '90071', '90073', '90077', '90079', '90089', '90090', '90094', '90095', '90201', '90210', '90211', '90212', '90220', '90221', '90222', '90230', '90232', '90240', '90241', '90242', '90245', '90247', '90248', '90249', '90250', '90254', '90255', '90260', '90262', '90263', '90265', '90266', '90270', '90272', '90274', '90275', '90277', '90278', '90280', '90290', '90291', '90292', '90293', '90301', '90302', '90303', '90304', '90305', '90401', '90402', '90403', '90404', '90405', '90501', '90502', '90503', '90504', '90505', '90506', '90601', '90602', '90603', '90604', '90605', '90606', '90620', '90621', '90623', '90630', '90631', '90638', '90640', '90650', '90660', '90670', '90680', '90701', '90703', '90704', '90706', '90710', '90712', '90713', '90715', '90716', '90717', '90720', '90723', '90731', '90732', '90740', '90742', '90743', '90744', '90745', '90746', '90747', '90755', '90802', '90803', '90804', '90805', '90806', '90807', '90808', '90810', '90813', '90814', '90815', '90822', '90831']\n"
     ]
    }
   ],
   "source": [
    "added_zipcodes = m5.add_zipcodes(('9%04d' % i for i in range(1000)), show_progress=True)\n",
    "print(added_zipcodes)"
   ]
  },
  {
   "cell_type": "code",
   "execution_count": 17,
   "metadata": {
    "ExecuteTime": {
     "end_time": "2018-05-26T08:42:03.315872Z",
     "start_time": "2018-05-26T08:42:00.482990Z"
    },
    "scrolled": false
   },
   "outputs": [
    {
     "data": {
      "application/vnd.jupyter.widget-view+json": {
       "model_id": "70bee9f3105f4a1c8c4208bd63526a68",
       "version_major": 2,
       "version_minor": 0
      },
      "text/plain": [
       "Map(basemap={'url': 'http://korona.geog.uni-heidelberg.de/tiles/roads/x={x}&y={y}&z={z}', 'max_zoom': 20, 'att…"
      ]
     },
     "metadata": {},
     "output_type": "display_data"
    },
    {
     "data": {
      "application/vnd.jupyter.widget-view+json": {
       "model_id": "e9a9126b62264c87866468e3c8f847f4",
       "version_major": 2,
       "version_minor": 0
      },
      "text/plain": [
       "Label(value='')"
      ]
     },
     "metadata": {},
     "output_type": "display_data"
    }
   ],
   "source": [
    "m6 = USMap()\n",
    "marker90033 = m6.us.gazetteer['90033']\n",
    "m6.center = [marker90033['lat'], marker90033['lon']]\n",
    "m6.display()"
   ]
  },
  {
   "cell_type": "code",
   "execution_count": 18,
   "metadata": {
    "ExecuteTime": {
     "end_time": "2018-05-26T08:42:03.343759Z",
     "start_time": "2018-05-26T08:42:03.319056Z"
    },
    "hide_input": true,
    "scrolled": false
   },
   "outputs": [],
   "source": [
    "popup = widgets.HTML(value='Marker 90033', placeholder='', description='')\n",
    "\n",
    "m6.add_point(marker90033['lat'], marker90033['lon'], 'marker 90033', popup)"
   ]
  },
  {
   "cell_type": "markdown",
   "metadata": {},
   "source": [
    "-----"
   ]
  }
 ],
 "metadata": {
  "hide_input": false,
  "kernelspec": {
   "display_name": "Python 3",
   "language": "python",
   "name": "python3"
  },
  "language_info": {
   "codemirror_mode": {
    "name": "ipython",
    "version": 3
   },
   "file_extension": ".py",
   "mimetype": "text/x-python",
   "name": "python",
   "nbconvert_exporter": "python",
   "pygments_lexer": "ipython3",
   "version": "3.6.5"
  },
  "latex_envs": {
   "LaTeX_envs_menu_present": true,
   "autoclose": false,
   "autocomplete": true,
   "bibliofile": "biblio.bib",
   "cite_by": "apalike",
   "current_citInitial": 1,
   "eqLabelWithNumbers": true,
   "eqNumInitial": 1,
   "hotkeys": {
    "equation": "Ctrl-E",
    "itemize": "Ctrl-I"
   },
   "labels_anchors": false,
   "latex_user_defs": false,
   "report_style_numbering": false,
   "user_envs_cfg": false
  },
  "toc": {
   "base_numbering": 1,
   "nav_menu": {},
   "number_sections": true,
   "sideBar": true,
   "skip_h1_title": false,
   "title_cell": "Table of Contents",
   "title_sidebar": "Contents",
   "toc_cell": false,
   "toc_position": {},
   "toc_section_display": true,
   "toc_window_display": false
  },
  "varInspector": {
   "cols": {
    "lenName": 16,
    "lenType": 16,
    "lenVar": 40
   },
   "kernels_config": {
    "python": {
     "delete_cmd_postfix": "",
     "delete_cmd_prefix": "del ",
     "library": "var_list.py",
     "varRefreshCmd": "print(var_dic_list())"
    },
    "r": {
     "delete_cmd_postfix": ") ",
     "delete_cmd_prefix": "rm(",
     "library": "var_list.r",
     "varRefreshCmd": "cat(var_dic_list()) "
    }
   },
   "types_to_exclude": [
    "module",
    "function",
    "builtin_function_or_method",
    "instance",
    "_Feature"
   ],
   "window_display": false
  }
 },
 "nbformat": 4,
 "nbformat_minor": 2
}
